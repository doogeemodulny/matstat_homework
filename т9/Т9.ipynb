{
 "cells": [
  {
   "cell_type": "markdown",
   "id": "dc27330f",
   "metadata": {},
   "source": [
    "Т9"
   ]
  },
  {
   "cell_type": "markdown",
   "id": "2bd8efda",
   "metadata": {},
   "source": [
    "а) Проверить гипотезу о согласии данных с законом равномерного распределения с помощью критерия Хи-квадрат и с помощью критерия Колмогорова. Сравнить результаты"
   ]
  },
  {
   "cell_type": "markdown",
   "id": "bcb1fe6c",
   "metadata": {},
   "source": [
    "![a_pirson_1](a_pirson_1.jpg)"
   ]
  },
  {
   "cell_type": "markdown",
   "id": "cc3faf95",
   "metadata": {},
   "source": [
    "![a_pirson_2](a_pirson_2.jpg)"
   ]
  },
  {
   "cell_type": "markdown",
   "id": "e2f1292e",
   "metadata": {},
   "source": [
    "![a_kolmogorov_1](a_kolmogorov_1.jpg)"
   ]
  },
  {
   "cell_type": "markdown",
   "id": "32766cfe",
   "metadata": {},
   "source": [
    "![a_kolnogorov_2](a_kolmogorov_2.jpg)"
   ]
  },
  {
   "cell_type": "markdown",
   "id": "5df07227",
   "metadata": {},
   "source": [
    "![a_comparing](a_comparing.jpg)"
   ]
  },
  {
   "cell_type": "code",
   "execution_count": null,
   "id": "99675277",
   "metadata": {},
   "outputs": [],
   "source": [
    "\n",
    "\n",
    "\n",
    "\n",
    "\n"
   ]
  },
  {
   "cell_type": "markdown",
   "id": "86db81bd",
   "metadata": {},
   "source": [
    "б) Проверить гипотезу о согласии данных с законом нормального распределения с помощью критерия Хи-квадрат (оценки неизвестных параметров определить численно, максимизируя функцию правдоподобия, построенную по группированной выборке) и с помощью критерия Колмогорова (распределение критерия оперделить бутстрапом). Сравнить результаты."
   ]
  },
  {
   "cell_type": "markdown",
   "id": "911fbc92",
   "metadata": {},
   "source": [
    "![b_1](b_1.jpg)"
   ]
  },
  {
   "cell_type": "markdown",
   "id": "882fe442",
   "metadata": {},
   "source": [
    "![b_2](b_2.jpg)"
   ]
  },
  {
   "cell_type": "markdown",
   "id": "91aeb12e",
   "metadata": {},
   "source": [
    "Максимизируя функцию правдоподобия (омпг) найдем параметры a и sigma"
   ]
  },
  {
   "cell_type": "code",
   "execution_count": 24,
   "id": "ca16df34",
   "metadata": {},
   "outputs": [],
   "source": [
    "import numpy as np\n",
    "from scipy import integrate\n",
    "from scipy.optimize import minimize\n",
    "import matplotlib.pyplot as plt\n",
    "\n",
    "n=100"
   ]
  },
  {
   "cell_type": "code",
   "execution_count": 4,
   "id": "65548326",
   "metadata": {},
   "outputs": [],
   "source": [
    "# Определение функции плотности нормального распределения\n",
    "def normal_distribution(x, a, sigma):\n",
    "    return 1/(sigma*(2*np.pi)**0.5)*np.exp(-(x-a)**2/(2*sigma**2))\n",
    "\n",
    "# Определение функции логарифмической функции правдоподобия\n",
    "def log_likelihood(params, x_values):\n",
    "    a, sigma = params\n",
    "    log_l = 0\n",
    "    for interval in x_values:\n",
    "        integrand = lambda x: normal_distribution(x, a, sigma)\n",
    "        result, _ = integrate.quad(integrand, interval[0], interval[1])\n",
    "        log_l += np.log(result**interval[2])\n",
    "    return -log_l  # Минимизируем отрицательное значение логарифма правдоподобия\n",
    "\n",
    "# Исходные данные\n",
    "x_values = [(-np.inf, 1, 5), (1, 2, 8), (2, 3, 6), (3, 4, 12), (4, 5, 14), (5, 6, 18), (6, 7, 11), (7, 8, 6), (8, 9, 13), (9, np.inf, 7)]  # Заданные интервалы\n",
    "\n",
    "# Поиск оптимальных значений параметров a и sigma, минимизируя отрицательное значение логарифма правдоподобия\n",
    "initial_guess = [2, 3]  # Начальное предположение для a и sigma\n",
    "result = minimize(log_likelihood, initial_guess, args=(x_values,))\n",
    "\n",
    "# Вывод результатов\n",
    "a_optimal, sigma_optimal = result.x"
   ]
  },
  {
   "cell_type": "code",
   "execution_count": 5,
   "id": "a0b7f03a",
   "metadata": {},
   "outputs": [
    {
     "name": "stdout",
     "output_type": "stream",
     "text": [
      "Оптимальное значение a: 5.289676778040092\n",
      "Оптимальное значение sigma: 2.679519829955524\n"
     ]
    }
   ],
   "source": [
    "print(\"Оптимальное значение a:\", a_optimal)\n",
    "print(\"Оптимальное значение sigma:\", sigma_optimal)"
   ]
  },
  {
   "cell_type": "markdown",
   "id": "bc469314",
   "metadata": {},
   "source": [
    "Посчитаем теперь вероятности для каждого интегрвала группированной выборки"
   ]
  },
  {
   "cell_type": "code",
   "execution_count": 6,
   "id": "c6d99500",
   "metadata": {},
   "outputs": [
    {
     "name": "stdout",
     "output_type": "stream",
     "text": [
      "p_i: [0.0547 0.0551 0.0866 0.1187 0.1418 0.1476 0.1338 0.1058 0.0728 0.0831]\n",
      "n*pi: [ 5.47  5.51  8.66 11.87 14.18 14.76 13.38 10.58  7.28  8.31]\n"
     ]
    }
   ],
   "source": [
    "a = 5.29\n",
    "sigma = 2.68\n",
    "x_values = [(-np.inf, 1, 5), (1, 2, 8), (2, 3, 6), (3, 4, 12), (4, 5, 14), (5, 6, 18), (6, 7, 11), (7, 8, 6), (8, 9, 13), (9, np.inf, 7)]  # Заданные интервалы\n",
    "\n",
    "p_i=[]\n",
    "for interval in x_values:\n",
    "    integrand = lambda x: normal_distribution(x, a, sigma)\n",
    "    result, _ = integrate.quad(integrand, interval[0], interval[1])\n",
    "    p_i.append(np.round(result, 4))\n",
    "p_i = np.array(p_i)\n",
    "print(\"p_i:\", p_i)\n",
    "print(\"n*pi:\", n*p_i)"
   ]
  },
  {
   "cell_type": "markdown",
   "id": "dad82311",
   "metadata": {},
   "source": [
    "n>50\n",
    "\n",
    "Все n*pi>5\n",
    "\n",
    "Значит всё ОК с критерием Хи-квадрат (Пирсон)"
   ]
  },
  {
   "cell_type": "code",
   "execution_count": 7,
   "id": "0d6c729e",
   "metadata": {},
   "outputs": [
    {
     "data": {
      "text/plain": [
       "array([ 5.,  8.,  6., 12., 14., 18., 11.,  6., 13.,  7.])"
      ]
     },
     "execution_count": 7,
     "metadata": {},
     "output_type": "execute_result"
    }
   ],
   "source": [
    "x_values = np.array(x_values)\n",
    "m_i = x_values[:,2] # фактическое распределение элементов выборки по интервалам\n",
    "m_i"
   ]
  },
  {
   "cell_type": "code",
   "execution_count": 8,
   "id": "b5536d4b",
   "metadata": {},
   "outputs": [
    {
     "data": {
      "text/plain": [
       "9.804391705896775"
      ]
     },
     "execution_count": 8,
     "metadata": {},
     "output_type": "execute_result"
    }
   ],
   "source": [
    "#считаем оценку\n",
    "delta = np.sum((m_i-(n*p_i))**2 / (n*p_i)) #оценка delta\n",
    "delta"
   ]
  },
  {
   "cell_type": "markdown",
   "id": "8ccbcf5e",
   "metadata": {},
   "source": [
    "Теорема: если Н0 верна и оценка параметра есть ОМПГ, то delta стремится по распределению к Хи-квадрат(k-1-s), где s-размерность параметра"
   ]
  },
  {
   "cell_type": "code",
   "execution_count": 9,
   "id": "4465a9c4",
   "metadata": {},
   "outputs": [],
   "source": [
    "k = 10\n",
    "s = 2"
   ]
  },
  {
   "cell_type": "code",
   "execution_count": 10,
   "id": "20ad6862",
   "metadata": {},
   "outputs": [],
   "source": [
    "from scipy.stats import chi2\n",
    "\n",
    "k_ = k-1-s\n",
    "p_value = 1- chi2.cdf(delta, k_)"
   ]
  },
  {
   "cell_type": "code",
   "execution_count": 11,
   "id": "079a4259",
   "metadata": {},
   "outputs": [
    {
     "data": {
      "text/plain": [
       "0.19993207544989078"
      ]
     },
     "execution_count": 11,
     "metadata": {},
     "output_type": "execute_result"
    }
   ],
   "source": [
    "p_value"
   ]
  },
  {
   "cell_type": "markdown",
   "id": "4a659ef4",
   "metadata": {},
   "source": [
    "0.2 > alpha = 0.05\n",
    "\n",
    "=> НЕТ ОСНОВАНИЙ ОТВЕРГАТЬ H_0"
   ]
  },
  {
   "cell_type": "code",
   "execution_count": null,
   "id": "5cb896b3",
   "metadata": {},
   "outputs": [],
   "source": [
    "\n",
    "\n",
    "\n",
    "\n",
    "\n"
   ]
  },
  {
   "cell_type": "markdown",
   "id": "e2e29890",
   "metadata": {},
   "source": [
    "C помощью критерия Колмогорова"
   ]
  },
  {
   "cell_type": "markdown",
   "id": "40ad78a0",
   "metadata": {},
   "source": [
    "ПАРАМЕТРИЧЕСКИЙ BOOTSTRAP для определения закона распределения delta\n",
    "\n",
    "1) берем любую оценку параметра\n",
    "\n",
    "2) генерируем N=50000 выборок по вероятностной модели с этим параметром\n",
    "\n",
    "3) по каждой выборке считаем оценку и находим delta = sqrt(n)*sup(Fn_edf(x) - F(x, theta_*))\n",
    "\n",
    "4) делаем вариационный ряд и считаем p-value как l/N где l - количество delta_i > delta_, \n",
    "delta_ - delta для исходной выборки"
   ]
  },
  {
   "cell_type": "markdown",
   "id": "0a14c866",
   "metadata": {},
   "source": [
    "![b_3](b_3.jpg)"
   ]
  },
  {
   "cell_type": "code",
   "execution_count": 205,
   "id": "46b317aa",
   "metadata": {},
   "outputs": [
    {
     "name": "stdout",
     "output_type": "stream",
     "text": [
      "[0 0 0 0 0 1 1 1 1 1 1 1 1 2 2 2 2 2 2 3 3 3 3 3 3 3 3 3 3 3 3 4 4 4 4 4 4\n",
      " 4 4 4 4 4 4 4 4 5 5 5 5 5 5 5 5 5 5 5 5 5 5 5 5 5 5 6 6 6 6 6 6 6 6 6 6 6\n",
      " 7 7 7 7 7 7 8 8 8 8 8 8 8 8 8 8 8 8 8 9 9 9 9 9 9 9]\n",
      "(4.77, 2.5054141374231933)\n"
     ]
    }
   ],
   "source": [
    "# исходная выборка\n",
    "X = np.array([0]*5 + [1]*8 + [2]*6 + [3]*12 + [4]*14 + [5]*18 + [6]*11 + [7]*6 + [8]*13 + [9]*7) \n",
    "\n",
    "teta_ = (np.mean(X), (np.mean(X**2) - np.mean(X)**2) ** 0.5) #оценка параметра по исходной выборке\n",
    "\n",
    "print(X)\n",
    "print(teta_)"
   ]
  },
  {
   "cell_type": "code",
   "execution_count": 206,
   "id": "396dc7c7",
   "metadata": {},
   "outputs": [],
   "source": [
    "XX = []\n",
    "N = 50000 # мощность бутстрапа\n",
    "n = 100 # объем выборки\n",
    "for _ in range(N):\n",
    "    XX.append(np.random.normal(*teta_, n))\n",
    "XX = np.array(XX)"
   ]
  },
  {
   "cell_type": "code",
   "execution_count": 207,
   "id": "f82e09bf",
   "metadata": {},
   "outputs": [
    {
     "data": {
      "text/plain": [
       "array([[ 6.47161068,  5.06459492,  1.18812866, ...,  3.26601983,\n",
       "         3.7027445 ,  6.18499004],\n",
       "       [ 1.74098561,  6.60433852,  6.65926857, ...,  4.60887781,\n",
       "         8.56670175,  2.25607937],\n",
       "       [ 9.85620095,  2.6901279 ,  2.28486541, ...,  5.73005732,\n",
       "         2.76448189,  5.55515283],\n",
       "       ...,\n",
       "       [ 6.94899508,  2.82411154,  8.38024937, ...,  9.06849452,\n",
       "         2.95731375,  6.90614606],\n",
       "       [ 4.68162858,  2.63740022,  0.95881129, ...,  5.41726765,\n",
       "        -0.39258655,  6.20140862],\n",
       "       [ 6.43883709,  6.89906931,  3.34952912, ...,  3.7930383 ,\n",
       "         3.71978327,  7.55603372]])"
      ]
     },
     "execution_count": 207,
     "metadata": {},
     "output_type": "execute_result"
    }
   ],
   "source": [
    "XX #выборки сгенерированные по закону параметризованному оценкой параметра ОММ"
   ]
  },
  {
   "cell_type": "code",
   "execution_count": 208,
   "id": "f8242546",
   "metadata": {},
   "outputs": [
    {
     "data": {
      "text/plain": [
       "(50000, 100)"
      ]
     },
     "execution_count": 208,
     "metadata": {},
     "output_type": "execute_result"
    }
   ],
   "source": [
    "XX.shape"
   ]
  },
  {
   "cell_type": "code",
   "execution_count": null,
   "id": "9767bd2f",
   "metadata": {},
   "outputs": [],
   "source": []
  },
  {
   "cell_type": "code",
   "execution_count": 209,
   "id": "3d434624",
   "metadata": {},
   "outputs": [],
   "source": [
    "# Создание эмпирической функции распределения по выборке\n",
    "import numpy as np\n",
    "\n",
    "def ecdf_f(sample):\n",
    "    sorted_sample = np.sort(sample)\n",
    "    n = len(sorted_sample)\n",
    "    ecdf_values = np.arange(0, n) / n\n",
    "    result = np.column_stack((sorted_sample, ecdf_values))\n",
    "    for i in range(1, n):\n",
    "        if result[i, 0] == result[i-1, 0]:\n",
    "            result[i, 1] = result[i-1, 1]\n",
    "    return result\n"
   ]
  },
  {
   "cell_type": "code",
   "execution_count": 210,
   "id": "5dcd4bc0",
   "metadata": {},
   "outputs": [
    {
     "data": {
      "text/plain": [
       "array([[4.94307991, 2.14342016],\n",
       "       [4.84721196, 2.58231785],\n",
       "       [5.05580476, 2.31998279],\n",
       "       ...,\n",
       "       [4.94793671, 2.7132146 ],\n",
       "       [4.75410368, 2.54545158],\n",
       "       [4.8579549 , 1.9814368 ]])"
      ]
     },
     "execution_count": 210,
     "metadata": {},
     "output_type": "execute_result"
    }
   ],
   "source": [
    "teta_XX = np.apply_along_axis(lambda x: ((np.mean(x), (np.mean(x**2) - np.mean(x)**2) ** 0.5)), axis=1, arr=XX)\n",
    "teta_XX # оценка параметра для каждой сгенерированной выборки"
   ]
  },
  {
   "cell_type": "code",
   "execution_count": 211,
   "id": "b8107b73",
   "metadata": {},
   "outputs": [
    {
     "data": {
      "text/plain": [
       "(50000, 2)"
      ]
     },
     "execution_count": 211,
     "metadata": {},
     "output_type": "execute_result"
    }
   ],
   "source": [
    "teta_XX.shape "
   ]
  },
  {
   "cell_type": "code",
   "execution_count": 212,
   "id": "7f3925fc",
   "metadata": {},
   "outputs": [],
   "source": [
    "#ЭМПИРИЧЕСКАЯ ФУНКЦИЯ РАСПРЕДЕЛЕНИЯ ПО КАЖДОЙ ВЫБОРКЕ\n",
    "F_ecdf_X = np.apply_along_axis(lambda x: ecdf_f(x), axis=1, arr=XX)"
   ]
  },
  {
   "cell_type": "code",
   "execution_count": 213,
   "id": "8761b24b",
   "metadata": {},
   "outputs": [
    {
     "data": {
      "text/plain": [
       "(50000, 100, 2)"
      ]
     },
     "execution_count": 213,
     "metadata": {},
     "output_type": "execute_result"
    }
   ],
   "source": [
    "F_ecdf_X.shape"
   ]
  },
  {
   "cell_type": "code",
   "execution_count": 214,
   "id": "3c433af5",
   "metadata": {},
   "outputs": [],
   "source": [
    "# Определение функции плотности нормального распределения\n",
    "def normal_distribution(x, a, sigma):\n",
    "    return 1/(sigma*(2*np.pi)**0.5)*np.exp(-(x-a)**2/(2*sigma**2))"
   ]
  },
  {
   "cell_type": "code",
   "execution_count": 215,
   "id": "1033030b",
   "metadata": {},
   "outputs": [],
   "source": [
    "def func_distr_normal(sample, teta): #функция распределения F(x) по заданной выборке и параметру\n",
    "    a, sigma = teta\n",
    "    integrand = lambda x: normal_distribution(x, a, sigma)\n",
    "    result = []\n",
    "    for x in np.sort(sample):\n",
    "        #интегрирую плотность нормального распределения от -inf до каждого элемента выборки\n",
    "        # так получим F(x, teta*), это НЕ эмпирическая ф-я распределения\n",
    "        result_x, _ = integrate.quad(integrand, -np.inf, x) \n",
    "        result.append(result_x)\n",
    "    return np.stack((np.sort(sample), np.array(result)), axis=-1)"
   ]
  },
  {
   "cell_type": "code",
   "execution_count": 248,
   "id": "73c49e02",
   "metadata": {},
   "outputs": [
    {
     "data": {
      "text/plain": [
       "Text(0.5, 1.0, 'Исходная выборка')"
      ]
     },
     "execution_count": 248,
     "metadata": {},
     "output_type": "execute_result"
    },
    {
     "data": {
      "image/png": "[encoded data removed]",
      "text/plain": [
       "<Figure size 640x480 with 2 Axes>"
      ]
     },
     "metadata": {},
     "output_type": "display_data"
    }
   ],
   "source": [
    "# тестирую функции\n",
    "\n",
    "fig, ax = plt.subplots(1, 2)\n",
    "# проверка что правильно строится функцию распределения нормального закона\n",
    "ax[0].plot(func_distr_normal(XX[10], teta_XX[10])[:,0], func_distr_normal(XX[10], teta_XX[10])[:,1])\n",
    "# и эмпирическая функция распределения по той же выборке (100й)\n",
    "ax[0].step(ecdf_f(XX[10])[:,0], ecdf_f(XX[10])[:,1])\n",
    "ax[0].set_title(\"Одна из бутстраповских выборок\")\n",
    "\n",
    "ax[1].plot(func_distr_normal(X, teta_)[:,0], func_distr_normal(X, teta_)[:,1])\n",
    "ax[1].step(ecdf_f(X)[:,0], ecdf_f(X)[:,1], where='post')\n",
    "ax[1].set_title(\"Исходная выборка\")"
   ]
  },
  {
   "cell_type": "code",
   "execution_count": 259,
   "id": "ad01b5bf",
   "metadata": {},
   "outputs": [],
   "source": [
    "#считаю delta для каждой бутстраповской выборки\n",
    "sqrt_n = n**0.5\n",
    "\n",
    "all_deltas = []\n",
    "for i in range(len(XX)):\n",
    "    ecdf = ecdf_f(XX[i])[:,1] #функция распределения нормального закона с параметром - оценкой из выборки\n",
    "    fdn = func_distr_normal(XX[i], teta_XX[i])[:,1] #эмпирическая функция распределения\n",
    "    \n",
    "    #колмогоровская delta для выборки\n",
    "    delta_i = sqrt_n* max(np.max(np.abs(ecdf - fdn)), \n",
    "                          np.max(np.abs(ecdf[:-1] - fdn[1:])), \n",
    "                          np.abs(1-ecdf[-1]))\n",
    "    all_deltas.append(delta_i)"
   ]
  },
  {
   "cell_type": "code",
   "execution_count": 260,
   "id": "fad32ea7",
   "metadata": {},
   "outputs": [
    {
     "data": {
      "text/plain": [
       "(50000,)"
      ]
     },
     "execution_count": 260,
     "metadata": {},
     "output_type": "execute_result"
    }
   ],
   "source": [
    "all_deltas = np.sort(all_deltas) # вариационный ряд\n",
    "all_deltas.shape"
   ]
  },
  {
   "cell_type": "code",
   "execution_count": 273,
   "id": "03bc758e",
   "metadata": {},
   "outputs": [
    {
     "data": {
      "text/plain": [
       "1.0133711124224798"
      ]
     },
     "execution_count": 273,
     "metadata": {},
     "output_type": "execute_result"
    }
   ],
   "source": [
    "teta_ = (np.mean(X), (np.mean(X**2) - np.mean(X)**2) ** 0.5)\n",
    "ecdf = ecdf_f(X)[:,1] #эмпирическая функция распределения\n",
    "fdn = func_distr_normal(X, teta_)[:,1] #функция распределения нормального закона с параметром - оценкой из выборки\n",
    "\n",
    "#колмогоровская delta для выборки\n",
    "delta_ = sqrt_n * max(np.max(np.abs(ecdf - fdn)), \n",
    "                      np.max(np.abs(ecdf[1:] - fdn[:-1])), \n",
    "                      np.abs(1-fdn[-1]))\n",
    "delta_  #delta для исходной выборки"
   ]
  },
  {
   "cell_type": "code",
   "execution_count": 274,
   "id": "8ce63ecd",
   "metadata": {},
   "outputs": [
    {
     "name": "stdout",
     "output_type": "stream",
     "text": [
      "1103\n"
     ]
    },
    {
     "data": {
      "text/plain": [
       "0.02206"
      ]
     },
     "execution_count": 274,
     "metadata": {},
     "output_type": "execute_result"
    }
   ],
   "source": [
    "# l - количество delta в вариационном ряде > оценки delta исходной выборки \n",
    "l = len([delta for delta in all_deltas if delta >= delta_])\n",
    "print(l)\n",
    "p_value = l/(N)\n",
    "p_value"
   ]
  },
  {
   "cell_type": "markdown",
   "id": "87fa1cda",
   "metadata": {},
   "source": [
    "0.022 < 0.05 => ОТВЕРГАЕМ ГИПОТЕЗУ H_0"
   ]
  },
  {
   "cell_type": "markdown",
   "id": "350e6440",
   "metadata": {},
   "source": [
    "P_value Хи-квадрат: 0.2 - НЕТ ОСНОВАНИЙ ОТВЕРГАТЬ\n",
    "    \n",
    "p_value Колмогоров (бутстрап): 0.022 - УВЕРЕННО ОТВЕРГАЕМ"
   ]
  },
  {
   "cell_type": "code",
   "execution_count": null,
   "id": "183a3881",
   "metadata": {},
   "outputs": [],
   "source": []
  }
 ],
 "metadata": {
  "kernelspec": {
   "display_name": "Python 3 (ipykernel)",
   "language": "python",
   "name": "python3"
  },
  "language_info": {
   "codemirror_mode": {
    "name": "ipython",
    "version": 3
   },
   "file_extension": ".py",
   "mimetype": "text/x-python",
   "name": "python",
   "nbconvert_exporter": "python",
   "pygments_lexer": "ipython3",
   "version": "3.10.6"
  }
 },
 "nbformat": 4,
 "nbformat_minor": 5
}
