{
 "cells": [
  {
   "cell_type": "code",
   "execution_count": 1,
   "id": "8e49413c-5162-4ab3-b9db-a787bac3c83b",
   "metadata": {},
   "outputs": [],
   "source": [
    "import numpy as np\n",
    "from scipy.stats import t"
   ]
  },
  {
   "cell_type": "markdown",
   "id": "e880bc9e-31b5-4862-aa00-12d3f52f0c67",
   "metadata": {},
   "source": [
    "## а) Определить влияние возраста на содержание иммуноглобулина"
   ]
  },
  {
   "cell_type": "code",
   "execution_count": 42,
   "id": "dd569505-df7d-4bb9-b645-268f307152cf",
   "metadata": {},
   "outputs": [
    {
     "name": "stdout",
     "output_type": "stream",
     "text": [
      "Коэффициент детерминации = 0.8106  >  0.7  => Влияние возраста существенно\n"
     ]
    }
   ],
   "source": [
    "Y = np.array([\n",
    "    83, 85,\n",
    "    84, 85, 85, 86, 86, 87,\n",
    "    86, 87, 87, 87, 88, 88, 88, 88, 88, 89, 90,\n",
    "    89, 90, 90, 91,\n",
    "    90, 92\n",
    "])\n",
    "x1 = np.tile(np.array([1, 0, 0, 0, 0]), (2, 1))\n",
    "x2 = np.tile(np.array([0, 1, 0, 0, 0]), (6, 1))\n",
    "x3 = np.tile(np.array([0, 0, 1, 0, 0]), (11, 1))\n",
    "x4 = np.tile(np.array([0, 0, 0, 1, 0]), (4, 1))\n",
    "x5 = np.tile(np.array([0, 0, 0, 0, 1]), (2, 1))\n",
    "PSI = np.vstack((x1, x2, x3, x4, x5))\n",
    "\n",
    "F = PSI.T @ PSI\n",
    "F_inv = np.linalg.inv(F)\n",
    "\n",
    "beta_ = F_inv @ PSI.T @ Y\n",
    "\n",
    "e = Y - PSI@beta_\n",
    "RSS = e.T @ e\n",
    "TSS = np.sum(((Y - Y.mean()).ravel()) ** 2)\n",
    "R_2 = (TSS - RSS) / TSS\n",
    "print(f\"Коэффициент детерминации = {np.round(R_2, 4)}  >  0.7  => Влияние возраста существенно\")"
   ]
  },
  {
   "cell_type": "code",
   "execution_count": 23,
   "id": "bb82d18c-6bdb-4064-b82a-2c2f83fb59ee",
   "metadata": {},
   "outputs": [],
   "source": [
    "n = np.size(Y)\n",
    "p = np.size(beta_)\n",
    "alpha = 0.05"
   ]
  },
  {
   "cell_type": "code",
   "execution_count": null,
   "id": "bb42b319-5d64-4dfa-ad33-06fe59255040",
   "metadata": {},
   "outputs": [],
   "source": [
    "\n",
    "\n",
    "\n",
    "\n",
    "\n"
   ]
  },
  {
   "cell_type": "markdown",
   "id": "03066278-2b54-4420-ae01-a73447c088c2",
   "metadata": {},
   "source": [
    "## б) Провести попарное сравнение средних в рамках регрессионной модели с учетом множественности проверяемых гипотез"
   ]
  },
  {
   "cell_type": "code",
   "execution_count": 29,
   "id": "a60b57bc-b00b-46ec-b0bc-574a7136414e",
   "metadata": {},
   "outputs": [
    {
     "data": {
      "text/plain": [
       "{(0, 1): [0.1784265447269502, 1.394629046312061],\n",
       " (0, 2): [0.00031201035098750375, 4.3478012377276585],\n",
       " (0, 3): [5.078817383805672e-07, 7.2570206974386355],\n",
       " (0, 4): [3.0205166476170114e-07, 7.515101582874102],\n",
       " (1, 2): [0.015713161592785407, 2.6397364657632196],\n",
       " (1, 3): [5.186378641056689e-07, 7.246705097771455],\n",
       " (1, 4): [2.786279378963573e-09, 10.07575604197543],\n",
       " (2, 3): [0.01574118243227401, 2.638916617250419],\n",
       " (2, 4): [1.0562432883518134e-05, 5.828949776349431],\n",
       " (3, 4): [0.2957913522747472, 1.073585940410586]}"
      ]
     },
     "execution_count": 29,
     "metadata": {},
     "output_type": "execute_result"
    }
   ],
   "source": [
    "p_values = {}\n",
    "for i, beta_1 in enumerate(beta_wave[:-1]):\n",
    "    for j, beta_2 in enumerate(beta_wave[i+1:]):\n",
    "        delta_wave = abs((beta_1-beta_2)*(n-p)**0.5 / (RSS*(F_inv[i, i] + F_inv[j, j]))**0.5)\n",
    "        p_value = t(n-p).sf(delta_wave) + t(n-p).cdf(-delta_wave)\n",
    "        p_values[(i, i+j+1)] = [p_value, delta_wave]\n",
    "p_values"
   ]
  },
  {
   "cell_type": "code",
   "execution_count": 41,
   "id": "bb764d01-a6b9-4dca-b9db-3f3796e2b5dc",
   "metadata": {},
   "outputs": [
    {
     "name": "stdout",
     "output_type": "stream",
     "text": [
      "beta_2 == beta_5: p-value(delta > 10.0758 | H_0) = 2.8e-09 < alpha = 0.005 --> Коэффициенты  неравны!\n",
      "beta_1 == beta_5: p-value(delta > 7.5151 | H_0) = 3.021e-07 < alpha = 0.0056 --> Коэффициенты  неравны!\n",
      "beta_1 == beta_4: p-value(delta > 7.257 | H_0) = 5.079e-07 < alpha = 0.0062 --> Коэффициенты  неравны!\n",
      "beta_2 == beta_4: p-value(delta > 7.2467 | H_0) = 5.186e-07 < alpha = 0.0071 --> Коэффициенты  неравны!\n",
      "beta_3 == beta_5: p-value(delta > 5.8289 | H_0) = 1.05624e-05 < alpha = 0.0083 --> Коэффициенты  неравны!\n",
      "beta_1 == beta_3: p-value(delta > 4.3478 | H_0) = 0.0003120104 < alpha = 0.01 --> Коэффициенты  неравны!\n",
      "beta_2 == beta_3: p-value(delta > 2.6397 | H_0) = 0.0157131616 > alpha = 0.0125 --> Коэффициенты  равны!\n",
      "beta_3 == beta_4: p-value(delta > 2.6389 | H_0) = 0.0157411824 < alpha = 0.0167 --> Коэффициенты  неравны!\n",
      "beta_1 == beta_2: p-value(delta > 1.3946 | H_0) = 0.1784265447 > alpha = 0.025 --> Коэффициенты  равны!\n",
      "beta_4 == beta_5: p-value(delta > 1.0736 | H_0) = 0.2957913523 > alpha = 0.05 --> Коэффициенты  равны!\n"
     ]
    }
   ],
   "source": [
    "p_values_incresing = sorted(p_values.items(), key=lambda item: item[1][0])\n",
    "for index, item in enumerate(p_values_incresing):\n",
    "    key, value = item\n",
    "    i, j = key\n",
    "    p_value, delta_wave = value\n",
    "    alpha_tmp = alpha/(len(results)-index) #метод холма-бонферрони\n",
    "    print(f'beta_{i+1} == beta_{j+1}: p-value(delta > {np.round(delta_wave, 4)} | H_0) =' +\\\n",
    "          f' {np.round(p_value, 10)} ' +\\\n",
    "          f'{\">\" if p_value > alpha_tmp else \"<\"} alpha = {np.round(alpha_tmp, 4)} --> Коэффициенты ' +\\\n",
    "          f' {\"равны!\" if p_value > alpha_tmp else \"неравны!\"}')"
   ]
  },
  {
   "cell_type": "code",
   "execution_count": null,
   "id": "b6bcffeb-0175-44d8-bca3-26d69d28e58b",
   "metadata": {},
   "outputs": [],
   "source": []
  }
 ],
 "metadata": {
  "kernelspec": {
   "display_name": "Python 3 (ipykernel)",
   "language": "python",
   "name": "python3"
  },
  "language_info": {
   "codemirror_mode": {
    "name": "ipython",
    "version": 3
   },
   "file_extension": ".py",
   "mimetype": "text/x-python",
   "name": "python",
   "nbconvert_exporter": "python",
   "pygments_lexer": "ipython3",
   "version": "3.9.7"
  }
 },
 "nbformat": 4,
 "nbformat_minor": 5
}
