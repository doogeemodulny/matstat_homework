{
 "cells": [
  {
   "cell_type": "markdown",
   "id": "b944274b",
   "metadata": {},
   "source": [
    "T4. Случайная величина распределена равномерно на отрезке [θ, 2θ]"
   ]
  },
  {
   "cell_type": "markdown",
   "id": "7b7def53",
   "metadata": {},
   "source": [
    "а) По выборке объема n найти оценки параметра θ методом моментов и методом максимального правдоподобия  \n",
    "б) проверить на несмещенность и состоятельность, при необходимости исправить оценки"
   ]
  },
  {
   "cell_type": "markdown",
   "id": "0989a629",
   "metadata": {},
   "source": [
    "![omm](omm.jpg)"
   ]
  },
  {
   "cell_type": "markdown",
   "id": "a2120ce2",
   "metadata": {},
   "source": [
    "![omm_checks](OMM_checks.jpg)"
   ]
  },
  {
   "cell_type": "markdown",
   "id": "4186f437",
   "metadata": {},
   "source": [
    "![OMP_checks](OMP_CHECKS.JPG)"
   ]
  },
  {
   "cell_type": "markdown",
   "id": "b2ea7b0d",
   "metadata": {},
   "source": [
    "![OMP_CHECKS2](OMP_CHECKS2.JPG)"
   ]
  },
  {
   "cell_type": "markdown",
   "id": "15acae93",
   "metadata": {},
   "source": [
    "![OMP_CHECKS3](OMP_CHECKS3.JPG)"
   ]
  },
  {
   "cell_type": "markdown",
   "id": "15377554",
   "metadata": {},
   "source": [
    "![OMP_CHECKS4](OMP_CHECKS4.JPG)"
   ]
  },
  {
   "cell_type": "markdown",
   "id": "24deb0d2",
   "metadata": {},
   "source": [
    "c) Сравнить ассимптотическую эффективность оценок"
   ]
  },
  {
   "cell_type": "markdown",
   "id": "69b783e6",
   "metadata": {},
   "source": [
    "![effect_compare](compare_effect.jpg)"
   ]
  },
  {
   "cell_type": "markdown",
   "id": "45f94970",
   "metadata": {},
   "source": [
    "d) Построить точный доверительный интервал для параметра "
   ]
  },
  {
   "cell_type": "markdown",
   "id": "472732dc",
   "metadata": {},
   "source": [
    "![INTERVAL_ACCURATE](INTERVAL_ACCURATE.jpg)"
   ]
  },
  {
   "cell_type": "markdown",
   "id": "6445ec4c",
   "metadata": {},
   "source": [
    "e) Построить асимптотический доверительный интервал для параметра"
   ]
  },
  {
   "cell_type": "code",
   "execution_count": 37,
   "id": "6ed3fffa",
   "metadata": {},
   "outputs": [],
   "source": [
    "#Примечание: на лекции были даны значения квантилей для стандартного нормального распределения\n",
    "# и доверительной вероятности 0.95"
   ]
  },
  {
   "cell_type": "markdown",
   "id": "ab28aa7c",
   "metadata": {},
   "source": [
    "![assimpt_1](assimpt1.jpg)"
   ]
  },
  {
   "cell_type": "markdown",
   "id": "ed61b04d",
   "metadata": {},
   "source": [
    "![assimpt](assimpt2.jpg)"
   ]
  },
  {
   "cell_type": "markdown",
   "id": "ed81b89e",
   "metadata": {},
   "source": [
    "f) Сгенерируйте выборку объема n=100 для некоторого значения параметра. Вычислите указанные выше доверит.интервалы для вероятности 0.95"
   ]
  },
  {
   "cell_type": "code",
   "execution_count": 25,
   "id": "22d8146e",
   "metadata": {},
   "outputs": [],
   "source": [
    "teta = 10 #некоторое значение параметра\n",
    "beta = 0.95 #доверительная вероятность\n",
    "n = 100 #объем выборки"
   ]
  },
  {
   "cell_type": "code",
   "execution_count": 26,
   "id": "fc2512d9",
   "metadata": {},
   "outputs": [],
   "source": [
    "import numpy as np"
   ]
  },
  {
   "cell_type": "code",
   "execution_count": 27,
   "id": "3d1412f5",
   "metadata": {},
   "outputs": [],
   "source": [
    "X = np.random.uniform(teta, 2*teta, n)"
   ]
  },
  {
   "cell_type": "code",
   "execution_count": 28,
   "id": "a204705c",
   "metadata": {},
   "outputs": [
    {
     "data": {
      "text/plain": [
       "array([13.43519189, 11.6549283 , 18.39872735, 11.36956962, 13.47403716,\n",
       "       16.6679622 , 17.34544497, 12.9074573 , 18.62033352, 14.19588706,\n",
       "       13.97794214, 13.01383309, 17.37181766, 18.93851441, 12.35968745,\n",
       "       16.67108122, 17.47162233, 17.49995515, 10.73960094, 13.39629265,\n",
       "       15.51475322, 15.97078506, 15.56182737, 17.33776565, 14.14496395,\n",
       "       11.63357416, 16.78713988, 19.71898241, 16.64411787, 19.15712135,\n",
       "       19.42165389, 12.80042864, 11.52935154, 12.66974864, 19.7490567 ,\n",
       "       16.98105562, 18.10699955, 12.67188483, 11.70468425, 17.36549654,\n",
       "       12.25442513, 18.07830742, 16.78255232, 19.98814852, 12.56468363,\n",
       "       12.05550283, 11.14241422, 17.31410443, 12.60809066, 15.61537448,\n",
       "       15.30839944, 18.4774992 , 17.58165605, 14.62784973, 13.28031647,\n",
       "       14.34018485, 17.69054024, 10.52874977, 17.96670055, 18.4324731 ,\n",
       "       11.99425063, 16.38918209, 11.71291524, 19.00582377, 19.55552226,\n",
       "       12.36109235, 13.1028291 , 17.63892569, 15.15490864, 14.06339122,\n",
       "       11.79995209, 16.66374189, 12.56193186, 14.82811151, 15.94483959,\n",
       "       16.35949547, 17.72036821, 10.80437554, 10.44705575, 12.58573482,\n",
       "       16.66055914, 11.46551173, 15.40055966, 14.24824078, 18.88893382,\n",
       "       18.18556062, 10.87942166, 10.7636279 , 11.653347  , 10.37046479,\n",
       "       14.00372356, 11.74117567, 18.75184842, 19.32643954, 17.62116161,\n",
       "       15.51042595, 12.39225686, 11.52882213, 11.64173836, 12.51741369])"
      ]
     },
     "execution_count": 28,
     "metadata": {},
     "output_type": "execute_result"
    }
   ],
   "source": [
    "X"
   ]
  },
  {
   "cell_type": "code",
   "execution_count": 33,
   "id": "6f73f32f",
   "metadata": {},
   "outputs": [],
   "source": [
    "accurate_interval = (X.max() / ((((1+beta)/2)**(1/n))+1), X.max() / ((((1-beta)/2)**(1/n))+1))"
   ]
  },
  {
   "cell_type": "code",
   "execution_count": 34,
   "id": "2b77f778",
   "metadata": {},
   "outputs": [
    {
     "data": {
      "text/plain": [
       "(9.99533939952149, 10.17838803480276)"
      ]
     },
     "execution_count": 34,
     "metadata": {},
     "output_type": "execute_result"
    }
   ],
   "source": [
    "accurate_interval # ЭТО ТОЧНЫЙ ДОВЕРИТЕЛЬНЫЙ ИНТЕРВАЛ"
   ]
  },
  {
   "cell_type": "code",
   "execution_count": 35,
   "id": "84026398",
   "metadata": {},
   "outputs": [],
   "source": [
    "assympt_interval = (2/3*X.mean() - 2.94*(((X**2).mean() - (X.mean())**2)/n)**(1/2), \n",
    "                    2/3*X.mean() + 2.94*(((X**2).mean() - (X.mean())**2)/n)**(1/2))"
   ]
  },
  {
   "cell_type": "code",
   "execution_count": 36,
   "id": "6a5d6a6b",
   "metadata": {},
   "outputs": [
    {
     "data": {
      "text/plain": [
       "(9.139105025166117, 10.805760723729634)"
      ]
     },
     "execution_count": 36,
     "metadata": {},
     "output_type": "execute_result"
    }
   ],
   "source": [
    "assympt_interval #ЭТО АССИМПТОТИЧЕСКИЙ ДОВЕРИТЕЛЬНЫЙ ИНТЕРВАЛ"
   ]
  },
  {
   "cell_type": "markdown",
   "id": "38a012c1",
   "metadata": {},
   "source": [
    "\n",
    "\n",
    "\n",
    "BOOTSTRAP"
   ]
  },
  {
   "cell_type": "code",
   "execution_count": 88,
   "id": "85d4d335",
   "metadata": {},
   "outputs": [],
   "source": [
    "teta_ = 2/3*X.mean() #оценка параметра\n",
    "N = 50000 #мощность бутстрапа"
   ]
  },
  {
   "cell_type": "code",
   "execution_count": 89,
   "id": "cf28e8e9",
   "metadata": {},
   "outputs": [],
   "source": [
    "XX = []\n",
    "for _ in range(N):\n",
    "    XX.append(np.random.uniform(teta_, 2*teta_, n))\n",
    "XX = np.array(XX)"
   ]
  },
  {
   "cell_type": "code",
   "execution_count": 90,
   "id": "d6ecc95c",
   "metadata": {},
   "outputs": [
    {
     "data": {
      "text/plain": [
       "array([[15.39520106, 13.33302563, 14.03254355, ..., 19.3167768 ,\n",
       "        17.36477842, 17.60794928],\n",
       "       [18.98714728, 17.34896451, 18.40665664, ..., 13.34659503,\n",
       "        15.99942031, 15.97035456],\n",
       "       [15.42273263, 10.29991762, 14.82353969, ..., 15.60286597,\n",
       "        11.90874042, 18.87164688],\n",
       "       ...,\n",
       "       [10.35615287, 17.77664352, 18.27390667, ..., 18.33064592,\n",
       "        16.66397086, 15.83935093],\n",
       "       [10.63969157, 14.35347634, 15.41247529, ..., 12.45903514,\n",
       "        18.60650093, 12.32079196],\n",
       "       [10.94116816, 11.03069079, 11.73442503, ..., 16.41045879,\n",
       "        16.16131849, 19.07674341]])"
      ]
     },
     "execution_count": 90,
     "metadata": {},
     "output_type": "execute_result"
    }
   ],
   "source": [
    "XX #массив выборок по вероятностной модели с параметром - нашей оценкой (смещенной омп)"
   ]
  },
  {
   "cell_type": "code",
   "execution_count": 91,
   "id": "ab2f0fa3",
   "metadata": {},
   "outputs": [],
   "source": [
    "teta_X = np.apply_along_axis(lambda x: (2/3)*x.mean(), axis=1, arr=XX)"
   ]
  },
  {
   "cell_type": "code",
   "execution_count": 92,
   "id": "c939ec04",
   "metadata": {},
   "outputs": [
    {
     "data": {
      "text/plain": [
       "array([ 9.84851054, 10.03000739, 10.10943038, ...,  9.80932135,\n",
       "       10.09952777,  9.79467914])"
      ]
     },
     "execution_count": 92,
     "metadata": {},
     "output_type": "execute_result"
    }
   ],
   "source": [
    "teta_X #оценки для каждой из 50000 подвыборок"
   ]
  },
  {
   "cell_type": "code",
   "execution_count": 93,
   "id": "0f3660f0",
   "metadata": {},
   "outputs": [
    {
     "data": {
      "text/plain": [
       "array([ 9.07295686,  9.13675539,  9.23658328, ..., 10.69077716,\n",
       "       10.74587284, 10.76045801])"
      ]
     },
     "execution_count": 93,
     "metadata": {},
     "output_type": "execute_result"
    }
   ],
   "source": [
    "teta_X.sort()\n",
    "teta_X #вариационный ряд"
   ]
  },
  {
   "cell_type": "code",
   "execution_count": 94,
   "id": "2a16b37d",
   "metadata": {},
   "outputs": [
    {
     "name": "stdout",
     "output_type": "stream",
     "text": [
      "9.59460761354774 10.351549830261533\n"
     ]
    }
   ],
   "source": [
    "teta_K1 = teta_X[int(N*((1-beta)/2))]\n",
    "teta_K2 = teta_X[int(N*((1+beta)/2))]\n",
    "print(teta_K1, teta_K2) #ЭТО ЧИСЛЕННЫЙ ДОВЕРИТЕЛЬНЫЙ ИНТЕРВАЛ"
   ]
  },
  {
   "cell_type": "code",
   "execution_count": null,
   "id": "a5997c30",
   "metadata": {},
   "outputs": [],
   "source": [
    "\n",
    "\n",
    "\n",
    "\n"
   ]
  },
  {
   "cell_type": "markdown",
   "id": "3f120d2c",
   "metadata": {},
   "source": [
    "\n",
    "\n",
    "\n",
    "СРАВНЕНИЕ ВСЕХ ИНТЕРВАЛОВ"
   ]
  },
  {
   "cell_type": "code",
   "execution_count": 95,
   "id": "6a2cf2d8",
   "metadata": {},
   "outputs": [
    {
     "name": "stdout",
     "output_type": "stream",
     "text": [
      "ДЛИНА ТОЧНОГО ИНТЕРВАЛА: 0.18304863528127058\n"
     ]
    }
   ],
   "source": [
    "l_accurate = accurate_interval[1] - accurate_interval[0]\n",
    "print(\"ДЛИНА ТОЧНОГО ИНТЕРВАЛА:\", l_accurate)"
   ]
  },
  {
   "cell_type": "code",
   "execution_count": 96,
   "id": "9500400a",
   "metadata": {},
   "outputs": [
    {
     "name": "stdout",
     "output_type": "stream",
     "text": [
      "ДЛИНА АССИМПТОТИЧЕСКОГО ИНТЕРВАЛА: 1.6666556985635168\n"
     ]
    }
   ],
   "source": [
    "l_assympt = assympt_interval[1] - assympt_interval[0]\n",
    "print(\"ДЛИНА АССИМПТОТИЧЕСКОГО ИНТЕРВАЛА:\", l_assympt)"
   ]
  },
  {
   "cell_type": "code",
   "execution_count": 86,
   "id": "506a69ab",
   "metadata": {},
   "outputs": [
    {
     "name": "stdout",
     "output_type": "stream",
     "text": [
      "ДЛИНА ЧИСЛЕННОГО ИНТЕРВАЛА: 0.18271603407377235\n"
     ]
    }
   ],
   "source": [
    "print(\"ДЛИНА ЧИСЛЕННОГО ИНТЕРВАЛА:\", teta_K2-teta_K1)"
   ]
  },
  {
   "cell_type": "code",
   "execution_count": null,
   "id": "fc9f546a",
   "metadata": {},
   "outputs": [],
   "source": [
    "\n",
    "\n",
    "\n",
    "\n",
    "\n",
    "\n",
    "\n",
    "\n"
   ]
  },
  {
   "cell_type": "markdown",
   "id": "b0a86105",
   "metadata": {},
   "source": [
    "\n",
    "\n",
    "\n",
    "\n",
    "\n",
    "T5"
   ]
  },
  {
   "cell_type": "markdown",
   "id": "430a79e8",
   "metadata": {},
   "source": [
    "a) По выборке объема n найти оценку параметра методом максимального правдоподобия"
   ]
  },
  {
   "cell_type": "markdown",
   "id": "26b02462",
   "metadata": {},
   "source": [
    "![t5omp](t5omp.jpg)"
   ]
  },
  {
   "cell_type": "markdown",
   "id": "03139168",
   "metadata": {},
   "source": [
    "b) Построить доверительный интервал для медианы"
   ]
  },
  {
   "cell_type": "markdown",
   "id": "3c1fae3e",
   "metadata": {},
   "source": [
    "![median_interval_1](medianinterval1.jpg)"
   ]
  },
  {
   "cell_type": "markdown",
   "id": "9b404af0",
   "metadata": {},
   "source": [
    "![median_interval_2](medianinterval2.jpg)"
   ]
  },
  {
   "cell_type": "markdown",
   "id": "e20eb803",
   "metadata": {},
   "source": [
    "![medianinterval3](medianinterval3.jpg)"
   ]
  },
  {
   "cell_type": "markdown",
   "id": "88335a6e",
   "metadata": {},
   "source": [
    "c) Построить асимптотический доверительный интервал для параметра"
   ]
  },
  {
   "cell_type": "markdown",
   "id": "d0ca0cea",
   "metadata": {},
   "source": [
    "![assimpt3](assimpt3.jpg)"
   ]
  },
  {
   "cell_type": "markdown",
   "id": "1a3d8203",
   "metadata": {},
   "source": [
    "![assimpt4](assimpt4.jpg)"
   ]
  },
  {
   "cell_type": "code",
   "execution_count": null,
   "id": "df792b4b",
   "metadata": {},
   "outputs": [],
   "source": [
    "\n",
    "\n",
    "\n",
    "\n"
   ]
  },
  {
   "cell_type": "markdown",
   "id": "34eda4f2",
   "metadata": {},
   "source": [
    "d) Сгенерируйте выборку объема n=100 для некоторого значения параметра. Вычислите указанные выше доверительные интервалы для доыерительной вероятности 0.95"
   ]
  },
  {
   "cell_type": "code",
   "execution_count": 247,
   "id": "6b3f01a6",
   "metadata": {},
   "outputs": [],
   "source": [
    "teta = 5 #некоторое значение параметра\n",
    "beta = 0.95 #доверительная вероятность\n",
    "n = 100 #объем выборки"
   ]
  },
  {
   "cell_type": "markdown",
   "id": "89c881b4",
   "metadata": {},
   "source": [
    "ДОВЕРИТЕЛЬНЫЙ ИНТЕРВАЛ МЕДИАНЫ"
   ]
  },
  {
   "cell_type": "markdown",
   "id": "dea8a2d7",
   "metadata": {},
   "source": [
    "Моделирование случайной величины"
   ]
  },
  {
   "cell_type": "markdown",
   "id": "2c81c778",
   "metadata": {},
   "source": [
    "![model_slvel](modelirovanie_slvel.jpg)"
   ]
  },
  {
   "cell_type": "code",
   "execution_count": 248,
   "id": "f447ced3",
   "metadata": {},
   "outputs": [],
   "source": [
    "etta = np.random.uniform(0, 1, n)"
   ]
  },
  {
   "cell_type": "code",
   "execution_count": 249,
   "id": "1c7c4755",
   "metadata": {},
   "outputs": [],
   "source": [
    "X = (1-etta)**(1/(1-teta)) "
   ]
  },
  {
   "cell_type": "code",
   "execution_count": 250,
   "id": "7f5b644b",
   "metadata": {},
   "outputs": [
    {
     "data": {
      "text/plain": [
       "array([1.08018028, 1.16298454, 1.0388615 , 1.67583223, 1.02157156,\n",
       "       1.12750572, 1.02763804, 1.47010423, 2.1297287 , 1.00534477,\n",
       "       1.32371667, 1.19305535, 1.85210256, 1.40652351, 1.08418248,\n",
       "       2.03944535, 1.0737241 , 1.13812425, 1.03157785, 1.06685242,\n",
       "       1.02653798, 1.33975291, 1.25899841, 1.04414276, 1.18448107,\n",
       "       1.00845818, 1.04697477, 1.02659817, 3.210731  , 1.03391028,\n",
       "       1.28449604, 1.02580476, 1.98764467, 1.88213447, 1.02820037,\n",
       "       1.08800297, 1.00379003, 1.29471755, 1.54299168, 1.44368736,\n",
       "       1.11529759, 1.05722442, 1.03039237, 1.48771053, 1.3555993 ,\n",
       "       1.02751923, 1.33331934, 1.24118462, 2.0469006 , 1.20754771,\n",
       "       1.51649032, 1.43685991, 1.14374897, 1.01156113, 1.67153887,\n",
       "       1.27516053, 1.78721457, 1.10370332, 1.05148245, 1.54944607,\n",
       "       1.01576187, 1.03648975, 1.16547685, 1.21574493, 1.07900914,\n",
       "       1.20858583, 1.31126675, 1.17976654, 1.05856967, 1.55867263,\n",
       "       1.05003665, 1.03066784, 1.55230096, 1.40896619, 1.08293865,\n",
       "       1.20420758, 1.19126048, 1.2053774 , 1.44958864, 1.12352145,\n",
       "       1.16034196, 1.19179554, 1.21428199, 1.0651209 , 1.67883033,\n",
       "       1.44639779, 1.79268769, 1.18687988, 1.20321435, 1.01870639,\n",
       "       2.03249635, 1.07632047, 1.41563873, 1.2746684 , 1.14590742,\n",
       "       1.51492356, 1.91153621, 1.09833178, 1.60736245, 1.63515574])"
      ]
     },
     "execution_count": 250,
     "metadata": {},
     "output_type": "execute_result"
    }
   ],
   "source": [
    "X"
   ]
  },
  {
   "cell_type": "code",
   "execution_count": 251,
   "id": "9de15c56",
   "metadata": {},
   "outputs": [],
   "source": [
    "teta_ = n / (np.sum(np.log(X))) + 1"
   ]
  },
  {
   "cell_type": "code",
   "execution_count": 252,
   "id": "4226408a",
   "metadata": {},
   "outputs": [
    {
     "data": {
      "text/plain": [
       "5.12638855817024"
      ]
     },
     "execution_count": 252,
     "metadata": {},
     "output_type": "execute_result"
    }
   ],
   "source": [
    "teta_"
   ]
  },
  {
   "cell_type": "code",
   "execution_count": 253,
   "id": "02660b2c",
   "metadata": {},
   "outputs": [],
   "source": [
    "median_interval = ((-1.96 * (2**(1/(teta_-1))*np.log(2)) / ((teta_-1)* n**(1/2))) + 2**(1/(teta_-1)),\n",
    "                   (1.96 * (2**(1/(teta_-1))*np.log(2)) / ((teta_-1)* n**(1/2))) + 2**(1/(teta_-1)))"
   ]
  },
  {
   "cell_type": "code",
   "execution_count": 254,
   "id": "0d04f557",
   "metadata": {},
   "outputs": [
    {
     "data": {
      "text/plain": [
       "(1.143965842477163, 1.221858015322525)"
      ]
     },
     "execution_count": 254,
     "metadata": {},
     "output_type": "execute_result"
    }
   ],
   "source": [
    "median_interval"
   ]
  },
  {
   "cell_type": "code",
   "execution_count": null,
   "id": "99272897",
   "metadata": {},
   "outputs": [],
   "source": [
    "\n",
    "\n",
    "\n"
   ]
  },
  {
   "cell_type": "markdown",
   "id": "4404bda0",
   "metadata": {},
   "source": [
    "ДОВЕРИТЕЛЬНЫЙ ИНТЕРВАЛ ДЛЯ ПАРАМЕТРА"
   ]
  },
  {
   "cell_type": "code",
   "execution_count": 255,
   "id": "8e6ea316",
   "metadata": {},
   "outputs": [],
   "source": [
    "teta_interval = ((-1.96*((teta_-1)/(n**(1/2))) + teta_),\n",
    "                 (1.96*((teta_-1)/(n**(1/2))) + teta_))"
   ]
  },
  {
   "cell_type": "code",
   "execution_count": 256,
   "id": "e5cbb72a",
   "metadata": {},
   "outputs": [
    {
     "data": {
      "text/plain": [
       "(4.317616400768873, 5.935160715571607)"
      ]
     },
     "execution_count": 256,
     "metadata": {},
     "output_type": "execute_result"
    }
   ],
   "source": [
    "teta_interval"
   ]
  },
  {
   "cell_type": "code",
   "execution_count": null,
   "id": "b7b6ade9",
   "metadata": {},
   "outputs": [],
   "source": [
    "\n",
    "\n",
    "\n",
    "\n",
    "\n",
    "\n",
    "\n"
   ]
  },
  {
   "cell_type": "markdown",
   "id": "4f86114a",
   "metadata": {},
   "source": [
    "t) Численно постройте бутстраповский доверительный интервал двумя способами, используя параметрический бутстрап и непараметрический бутстрап"
   ]
  },
  {
   "cell_type": "markdown",
   "id": "d0b97efe",
   "metadata": {},
   "source": [
    "НЕПАРАМЕТРИЧЕСКИЙ БУТСТРАП"
   ]
  },
  {
   "cell_type": "code",
   "execution_count": 257,
   "id": "40df8b79",
   "metadata": {},
   "outputs": [],
   "source": [
    "N=50000 #мощность бутстрапа"
   ]
  },
  {
   "cell_type": "code",
   "execution_count": 258,
   "id": "7329350d",
   "metadata": {},
   "outputs": [],
   "source": [
    "XX = []\n",
    "for _ in range(N):\n",
    "    #генерируем подвыборку с повторениями по нашей выборке-вероятностной модели\n",
    "    XX.append(np.random.choice(X, n, replace=True))\n",
    "XX = np.array(XX)"
   ]
  },
  {
   "cell_type": "code",
   "execution_count": 259,
   "id": "c8465527",
   "metadata": {},
   "outputs": [
    {
     "data": {
      "text/plain": [
       "array([[1.27516053, 1.85210256, 1.06685242, ..., 2.0469006 , 1.54944607,\n",
       "        1.12352145],\n",
       "       [2.03249635, 1.28449604, 1.08293865, ..., 1.03391028, 1.00845818,\n",
       "        1.02157156],\n",
       "       [1.40652351, 1.16298454, 1.44958864, ..., 1.44958864, 1.20858583,\n",
       "        1.16034196],\n",
       "       ...,\n",
       "       [3.210731  , 1.01576187, 1.18448107, ..., 1.00845818, 1.08293865,\n",
       "        1.07632047],\n",
       "       [1.08018028, 1.78721457, 1.13812425, ..., 1.54944607, 1.47010423,\n",
       "        1.03066784],\n",
       "       [1.20858583, 1.54944607, 1.16034196, ..., 1.02751923, 1.00845818,\n",
       "        1.32371667]])"
      ]
     },
     "execution_count": 259,
     "metadata": {},
     "output_type": "execute_result"
    }
   ],
   "source": [
    "XX"
   ]
  },
  {
   "cell_type": "code",
   "execution_count": 260,
   "id": "13e79b8c",
   "metadata": {},
   "outputs": [],
   "source": [
    "#считаем оценку параметра для каждой подвыборки\n",
    "teta_X = np.apply_along_axis(lambda x: n / (np.sum(np.log(x))) + 1, axis=1, arr=XX)"
   ]
  },
  {
   "cell_type": "code",
   "execution_count": 261,
   "id": "5068f9d2",
   "metadata": {},
   "outputs": [
    {
     "data": {
      "text/plain": [
       "(50000,)"
      ]
     },
     "execution_count": 261,
     "metadata": {},
     "output_type": "execute_result"
    }
   ],
   "source": [
    "teta_X.shape"
   ]
  },
  {
   "cell_type": "code",
   "execution_count": 262,
   "id": "5ed6454e",
   "metadata": {},
   "outputs": [
    {
     "data": {
      "text/plain": [
       "array([5.12643088, 5.51298193, 4.86397106, ..., 5.12049804, 5.25853136,\n",
       "       5.42247367])"
      ]
     },
     "execution_count": 262,
     "metadata": {},
     "output_type": "execute_result"
    }
   ],
   "source": [
    "teta_X"
   ]
  },
  {
   "cell_type": "code",
   "execution_count": 263,
   "id": "177df82c",
   "metadata": {},
   "outputs": [],
   "source": [
    "delta_X = teta_X - teta_"
   ]
  },
  {
   "cell_type": "code",
   "execution_count": 264,
   "id": "05e48ed9",
   "metadata": {},
   "outputs": [
    {
     "data": {
      "text/plain": [
       "array([ 4.23239862e-05,  3.86593369e-01, -2.62417501e-01, ...,\n",
       "       -5.89051421e-03,  1.32142797e-01,  2.96085114e-01])"
      ]
     },
     "execution_count": 264,
     "metadata": {},
     "output_type": "execute_result"
    }
   ],
   "source": [
    "delta_X #отклонение оценок подвыборок от оценки \"вероятностной модели\"-главной выборки"
   ]
  },
  {
   "cell_type": "code",
   "execution_count": 265,
   "id": "910cec65",
   "metadata": {},
   "outputs": [
    {
     "data": {
      "text/plain": [
       "array([-1.19374012, -1.1613766 , -1.14411845, ...,  1.97812825,\n",
       "        1.99439351,  2.23120757])"
      ]
     },
     "execution_count": 265,
     "metadata": {},
     "output_type": "execute_result"
    }
   ],
   "source": [
    "delta_X.sort()\n",
    "delta_X #вариационный ряд"
   ]
  },
  {
   "cell_type": "code",
   "execution_count": 266,
   "id": "68cc6ece",
   "metadata": {},
   "outputs": [
    {
     "data": {
      "text/plain": [
       "(4.250213672607167, 5.773929078161901)"
      ]
     },
     "execution_count": 266,
     "metadata": {},
     "output_type": "execute_result"
    }
   ],
   "source": [
    "delta_K1 = delta_X[int(N*((1-beta)/2))]\n",
    "delta_K2 = delta_X[int(N*((1+beta)/2))]\n",
    "\n",
    "nonparametric_interval = (teta_ - delta_K2, teta_ - delta_K1)\n",
    "nonparametric_interval"
   ]
  },
  {
   "cell_type": "code",
   "execution_count": null,
   "id": "83fb62c6",
   "metadata": {},
   "outputs": [],
   "source": [
    "\n",
    "\n",
    "\n",
    "\n"
   ]
  },
  {
   "cell_type": "markdown",
   "id": "d10c0863",
   "metadata": {},
   "source": [
    "ПАРАМЕТРИЧЕСКИЙ БУТСТРАП"
   ]
  },
  {
   "cell_type": "code",
   "execution_count": 267,
   "id": "fb03caab",
   "metadata": {},
   "outputs": [],
   "source": [
    "#подставляем оценку в модель и генерируем выборки по модели с известным параметром\n",
    "XXX = []\n",
    "for _ in range(N):\n",
    "    etta = np.random.uniform(0, 1, n)\n",
    "    XXX.append((1-etta)**(1/(1-teta)) )\n",
    "XXX = np.array(XXX)"
   ]
  },
  {
   "cell_type": "code",
   "execution_count": 268,
   "id": "f2605b79",
   "metadata": {},
   "outputs": [
    {
     "data": {
      "text/plain": [
       "array([[1.00618812, 1.15359461, 1.00306044, ..., 1.05740147, 1.02380353,\n",
       "        1.09030486],\n",
       "       [1.40342952, 1.26404804, 1.55510005, ..., 1.06595516, 1.17951852,\n",
       "        1.29670332],\n",
       "       [1.05415962, 1.17309517, 1.32633188, ..., 1.62109779, 1.08538787,\n",
       "        1.77950463],\n",
       "       ...,\n",
       "       [1.25770354, 1.30603369, 1.34067192, ..., 1.06798581, 1.07894581,\n",
       "        1.12174715],\n",
       "       [1.00929654, 1.68522849, 1.12157046, ..., 1.18640692, 1.03244265,\n",
       "        1.82096929],\n",
       "       [1.0294117 , 1.54327391, 1.31933061, ..., 1.47959942, 1.07556123,\n",
       "        1.06348507]])"
      ]
     },
     "execution_count": 268,
     "metadata": {},
     "output_type": "execute_result"
    }
   ],
   "source": [
    "XXX"
   ]
  },
  {
   "cell_type": "code",
   "execution_count": 269,
   "id": "04f31593",
   "metadata": {},
   "outputs": [],
   "source": [
    "#считаем оценку по каждой выборке\n",
    "teta_X_p = np.apply_along_axis(lambda x: n / (np.sum(np.log(x))) + 1, axis=1, arr=XXX)"
   ]
  },
  {
   "cell_type": "code",
   "execution_count": 270,
   "id": "2c2fc836",
   "metadata": {},
   "outputs": [
    {
     "data": {
      "text/plain": [
       "array([5.15068153, 4.96807632, 4.51535128, ..., 5.19304988, 4.96736232,\n",
       "       5.39512714])"
      ]
     },
     "execution_count": 270,
     "metadata": {},
     "output_type": "execute_result"
    }
   ],
   "source": [
    "teta_X_p"
   ]
  },
  {
   "cell_type": "code",
   "execution_count": 271,
   "id": "6c303e16",
   "metadata": {},
   "outputs": [
    {
     "data": {
      "text/plain": [
       "array([3.68876333, 3.70129319, 3.77387322, ..., 6.94843201, 6.97697338,\n",
       "       7.20423004])"
      ]
     },
     "execution_count": 271,
     "metadata": {},
     "output_type": "execute_result"
    }
   ],
   "source": [
    "#вариационный ряд\n",
    "teta_X_p.sort()\n",
    "teta_X_p"
   ]
  },
  {
   "cell_type": "code",
   "execution_count": 272,
   "id": "c6e28e65",
   "metadata": {},
   "outputs": [
    {
     "data": {
      "text/plain": [
       "(4.318732727021903, 5.916257647482173)"
      ]
     },
     "execution_count": 272,
     "metadata": {},
     "output_type": "execute_result"
    }
   ],
   "source": [
    "teta_K1_p = teta_X_p[int(N*((1-beta)/2))]\n",
    "teta_K2_p = teta_X_p[int(N*((1+beta)/2))]\n",
    "\n",
    "parametric_interval = (teta_K1_p, teta_K2_p)\n",
    "parametric_interval "
   ]
  },
  {
   "cell_type": "code",
   "execution_count": null,
   "id": "cfa94362",
   "metadata": {},
   "outputs": [],
   "source": [
    "\n",
    "\n",
    "\n",
    "\n"
   ]
  },
  {
   "cell_type": "markdown",
   "id": "11ff9b35",
   "metadata": {},
   "source": [
    "f) Сравнить все интервалы"
   ]
  },
  {
   "cell_type": "code",
   "execution_count": 273,
   "id": "60244d89",
   "metadata": {},
   "outputs": [
    {
     "name": "stdout",
     "output_type": "stream",
     "text": [
      "АСИМПТОТИЧЕСКИЙ ДОВЕРИТЕЛЬНЫЙ ИНТЕРВАЛ МЕДИАНЫ: (1.143965842477163, 1.221858015322525)\n",
      "Длина: 0.07789217284536187\n"
     ]
    }
   ],
   "source": [
    "print(f\"АСИМПТОТИЧЕСКИЙ ДОВЕРИТЕЛЬНЫЙ ИНТЕРВАЛ МЕДИАНЫ: ({median_interval[0]}, {median_interval[1]})\")\n",
    "print(f\"Длина: {median_interval[1]-median_interval[0]}\")"
   ]
  },
  {
   "cell_type": "code",
   "execution_count": 274,
   "id": "7ae6878f",
   "metadata": {},
   "outputs": [
    {
     "name": "stdout",
     "output_type": "stream",
     "text": [
      "АСИМПТОТИЧЕСКИЙ ДОВЕРИТЕЛЬНЫЙ ИНТЕРВАЛ ПАРАМЕТРА: (4.317616400768873, 5.935160715571607)\n",
      "Длина: 1.6175443148027338\n"
     ]
    }
   ],
   "source": [
    "print(f\"АСИМПТОТИЧЕСКИЙ ДОВЕРИТЕЛЬНЫЙ ИНТЕРВАЛ ПАРАМЕТРА: ({teta_interval[0]}, {teta_interval[1]})\")\n",
    "print(f\"Длина: {teta_interval[1]-teta_interval[0]}\")"
   ]
  },
  {
   "cell_type": "code",
   "execution_count": 275,
   "id": "db3cfb94",
   "metadata": {},
   "outputs": [
    {
     "name": "stdout",
     "output_type": "stream",
     "text": [
      "БУТСТРАПОВСКИЙ НЕПАРАМЕТРИЧЕСКИЙ ДОВЕРИТЕЛЬНЫЙ ИНТЕРВАЛ ПАРАМЕТРА: (4.250213672607167, 5.773929078161901)\n",
      "Длина: 1.523715405554734\n"
     ]
    }
   ],
   "source": [
    "print(f\"БУТСТРАПОВСКИЙ НЕПАРАМЕТРИЧЕСКИЙ ДОВЕРИТЕЛЬНЫЙ ИНТЕРВАЛ ПАРАМЕТРА: ({nonparametric_interval[0]}, {nonparametric_interval[1]})\")\n",
    "print(f\"Длина: {nonparametric_interval[1]-nonparametric_interval[0]}\")"
   ]
  },
  {
   "cell_type": "code",
   "execution_count": 276,
   "id": "e35cfe49",
   "metadata": {},
   "outputs": [
    {
     "name": "stdout",
     "output_type": "stream",
     "text": [
      "БУТСТРАПОВСКИЙ ПАРАМЕТРИЧЕСКИЙ ДОВЕРИТЕЛЬНЫЙ ИНТЕРВАЛ ПАРАМЕТРА: (4.318732727021903, 5.916257647482173)\n",
      "Длина: 1.5975249204602697\n"
     ]
    }
   ],
   "source": [
    "print(f\"БУТСТРАПОВСКИЙ ПАРАМЕТРИЧЕСКИЙ ДОВЕРИТЕЛЬНЫЙ ИНТЕРВАЛ ПАРАМЕТРА: ({parametric_interval[0]}, {parametric_interval[1]})\")\n",
    "print(f\"Длина: {parametric_interval[1]-parametric_interval[0]}\")"
   ]
  },
  {
   "cell_type": "code",
   "execution_count": null,
   "id": "4c15f67c",
   "metadata": {},
   "outputs": [],
   "source": []
  }
 ],
 "metadata": {
  "kernelspec": {
   "display_name": "Python 3 (ipykernel)",
   "language": "python",
   "name": "python3"
  },
  "language_info": {
   "codemirror_mode": {
    "name": "ipython",
    "version": 3
   },
   "file_extension": ".py",
   "mimetype": "text/x-python",
   "name": "python",
   "nbconvert_exporter": "python",
   "pygments_lexer": "ipython3",
   "version": "3.10.6"
  }
 },
 "nbformat": 4,
 "nbformat_minor": 5
}
