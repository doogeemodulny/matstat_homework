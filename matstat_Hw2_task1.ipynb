{
 "cells": [
  {
   "cell_type": "markdown",
   "id": "d6a577c0-4e74-4e12-b76d-f1d69b5eb28f",
   "metadata": {},
   "source": [
    "Случайный вектор (xi_1, xi_2, xi_3, xi_4, xi_5, etta) имеет компоненты, распределенные по следующему закону: \n",
    "psi_k ~ R(-1, 1), etta ~ N(2 + 3*x_1 - 2*x_2 + x_3 + x_4 - x_5, 1.5**2)\n",
    "Сгенерировать выборку объема n=50"
   ]
  },
  {
   "cell_type": "code",
   "execution_count": 352,
   "id": "76cd01cd-98a1-4006-a5da-cacc5bd3c037",
   "metadata": {},
   "outputs": [],
   "source": [
    "from scipy.stats import norm, uniform, f, t, multivariate_normal, chi, chi2_contingency\n",
    "from scipy.optimize import minimize\n",
    "import numpy as np\n",
    "import pandas as pd\n",
    "from matplotlib import pyplot as plt\n"
   ]
  },
  {
   "cell_type": "code",
   "execution_count": 353,
   "id": "ebf05596-4e0a-48a4-9ae4-863b44e25823",
   "metadata": {},
   "outputs": [],
   "source": [
    "p = 5 # количество случайных величин кси\n",
    "n = 50  # объем выборки\n",
    "\n",
    "# факторы - случайные величины равномерное распределенные на участке [a; b]\n",
    "a, b = -1, 1\n",
    "# отклик - это случайная величина распределенная нормально с параметрами mean, sd\n",
    "mean = lambda X, coefs: np.dot(X, np.array(coefs)) + 2 # etta ~ N(2 + 3x_1 - 2x_2 + x_3 + x_4 - x_5, 1.5**2)\n",
    "sd = 1.5\n",
    "\n",
    "factors = [uniform(a, b-a) for _ in range(p)] #psi_k ~ R(-1, 1)\n",
    "#вектор факторов\n",
    "X = np.array([stat.rvs(size=n) for stat in factors]).T  # Т, чтобы каждая строка представляла один случайный вектор\n",
    "\n",
    "# отклик\n",
    "reaction = norm(mean(X, [3, -2, 1, 1, -1]), sd) # etta ~ N(2 + 3x_1 - 2x_2 + x_3 + x_4 - x_5, 1.5**2)\n",
    "# реализация отклика\n",
    "Y = reaction.rvs(size=n)\n",
    "Y = Y.reshape(1, -1).T\n",
    "sample = np.hstack((X, Y))"
   ]
  },
  {
   "cell_type": "code",
   "execution_count": 354,
   "id": "cc24e3db-3f89-4580-9710-92f36cf36f07",
   "metadata": {},
   "outputs": [
    {
     "name": "stdout",
     "output_type": "stream",
     "text": [
      "(50, 6)\n"
     ]
    },
    {
     "data": {
      "text/html": [
       "<div>\n",
       "<style scoped>\n",
       "    .dataframe tbody tr th:only-of-type {\n",
       "        vertical-align: middle;\n",
       "    }\n",
       "\n",
       "    .dataframe tbody tr th {\n",
       "        vertical-align: top;\n",
       "    }\n",
       "\n",
       "    .dataframe thead th {\n",
       "        text-align: right;\n",
       "    }\n",
       "</style>\n",
       "<table border=\"1\" class=\"dataframe\">\n",
       "  <thead>\n",
       "    <tr style=\"text-align: right;\">\n",
       "      <th></th>\n",
       "      <th>$\\xi_1$</th>\n",
       "      <th>$\\xi_2$</th>\n",
       "      <th>$\\xi_3$</th>\n",
       "      <th>$\\xi_4$</th>\n",
       "      <th>$\\xi_5$</th>\n",
       "      <th>$\\eta$</th>\n",
       "    </tr>\n",
       "  </thead>\n",
       "  <tbody>\n",
       "    <tr>\n",
       "      <th>0</th>\n",
       "      <td>0.324426</td>\n",
       "      <td>0.247679</td>\n",
       "      <td>0.596298</td>\n",
       "      <td>0.627871</td>\n",
       "      <td>-0.788472</td>\n",
       "      <td>3.832853</td>\n",
       "    </tr>\n",
       "    <tr>\n",
       "      <th>1</th>\n",
       "      <td>-0.980013</td>\n",
       "      <td>0.183822</td>\n",
       "      <td>0.205116</td>\n",
       "      <td>0.649288</td>\n",
       "      <td>0.235783</td>\n",
       "      <td>-0.097368</td>\n",
       "    </tr>\n",
       "    <tr>\n",
       "      <th>2</th>\n",
       "      <td>-0.898224</td>\n",
       "      <td>-0.030263</td>\n",
       "      <td>-0.050250</td>\n",
       "      <td>0.453196</td>\n",
       "      <td>-0.541748</td>\n",
       "      <td>-0.267356</td>\n",
       "    </tr>\n",
       "    <tr>\n",
       "      <th>3</th>\n",
       "      <td>-0.999474</td>\n",
       "      <td>0.688524</td>\n",
       "      <td>-0.146266</td>\n",
       "      <td>0.284340</td>\n",
       "      <td>-0.767585</td>\n",
       "      <td>-1.839102</td>\n",
       "    </tr>\n",
       "    <tr>\n",
       "      <th>4</th>\n",
       "      <td>-0.640467</td>\n",
       "      <td>0.433535</td>\n",
       "      <td>0.377307</td>\n",
       "      <td>0.658133</td>\n",
       "      <td>-0.981116</td>\n",
       "      <td>-1.572713</td>\n",
       "    </tr>\n",
       "    <tr>\n",
       "      <th>5</th>\n",
       "      <td>0.324046</td>\n",
       "      <td>0.566481</td>\n",
       "      <td>0.063098</td>\n",
       "      <td>0.941092</td>\n",
       "      <td>-0.974607</td>\n",
       "      <td>3.671522</td>\n",
       "    </tr>\n",
       "    <tr>\n",
       "      <th>6</th>\n",
       "      <td>0.720729</td>\n",
       "      <td>0.190636</td>\n",
       "      <td>0.188236</td>\n",
       "      <td>-0.123329</td>\n",
       "      <td>0.853885</td>\n",
       "      <td>3.487902</td>\n",
       "    </tr>\n",
       "    <tr>\n",
       "      <th>7</th>\n",
       "      <td>0.826007</td>\n",
       "      <td>0.449336</td>\n",
       "      <td>0.507232</td>\n",
       "      <td>0.993547</td>\n",
       "      <td>0.613655</td>\n",
       "      <td>4.870319</td>\n",
       "    </tr>\n",
       "    <tr>\n",
       "      <th>8</th>\n",
       "      <td>0.101050</td>\n",
       "      <td>-0.617091</td>\n",
       "      <td>0.175155</td>\n",
       "      <td>0.517374</td>\n",
       "      <td>0.176772</td>\n",
       "      <td>4.331852</td>\n",
       "    </tr>\n",
       "    <tr>\n",
       "      <th>9</th>\n",
       "      <td>-0.981029</td>\n",
       "      <td>-0.207390</td>\n",
       "      <td>-0.194260</td>\n",
       "      <td>0.555495</td>\n",
       "      <td>0.392055</td>\n",
       "      <td>-1.049394</td>\n",
       "    </tr>\n",
       "  </tbody>\n",
       "</table>\n",
       "</div>"
      ],
      "text/plain": [
       "    $\\xi_1$   $\\xi_2$   $\\xi_3$   $\\xi_4$   $\\xi_5$    $\\eta$\n",
       "0  0.324426  0.247679  0.596298  0.627871 -0.788472  3.832853\n",
       "1 -0.980013  0.183822  0.205116  0.649288  0.235783 -0.097368\n",
       "2 -0.898224 -0.030263 -0.050250  0.453196 -0.541748 -0.267356\n",
       "3 -0.999474  0.688524 -0.146266  0.284340 -0.767585 -1.839102\n",
       "4 -0.640467  0.433535  0.377307  0.658133 -0.981116 -1.572713\n",
       "5  0.324046  0.566481  0.063098  0.941092 -0.974607  3.671522\n",
       "6  0.720729  0.190636  0.188236 -0.123329  0.853885  3.487902\n",
       "7  0.826007  0.449336  0.507232  0.993547  0.613655  4.870319\n",
       "8  0.101050 -0.617091  0.175155  0.517374  0.176772  4.331852\n",
       "9 -0.981029 -0.207390 -0.194260  0.555495  0.392055 -1.049394"
      ]
     },
     "execution_count": 354,
     "metadata": {},
     "output_type": "execute_result"
    }
   ],
   "source": [
    "names = [f'$\\\\xi_{i}$' for i in range(1, p+1)] + [r'$\\eta$']\n",
    "df = pd.DataFrame(data=sample, columns=names)\n",
    "print(df.shape)\n",
    "df.head(10)"
   ]
  },
  {
   "cell_type": "code",
   "execution_count": null,
   "id": "cb8bbb3c-1cf5-4391-a38b-6537c9003ef1",
   "metadata": {},
   "outputs": [],
   "source": [
    "\n",
    "\n",
    "\n",
    "\n",
    "\n",
    "\n",
    "\n",
    "\n",
    "\n",
    "\n",
    "\n"
   ]
  },
  {
   "cell_type": "markdown",
   "id": "bc813850-20ab-4b9c-8ee3-c48031405e3a",
   "metadata": {},
   "source": [
    "## a) Проверка переменных xi_k на мультиколлинеарность"
   ]
  },
  {
   "cell_type": "code",
   "execution_count": 355,
   "id": "8fd5136b-1b5c-46b5-a662-daff0c0d5c9e",
   "metadata": {},
   "outputs": [
    {
     "name": "stdout",
     "output_type": "stream",
     "text": [
      "xi_1: R^2 = (0.0245,)--> дисперсия фактора \"xi_1\" слабо объясняется регрессией => не линейно-зависим от остальных\n",
      "xi_2: R^2 = (0.1726,)--> дисперсия фактора \"xi_2\" слабо объясняется регрессией => не линейно-зависим от остальных\n",
      "xi_3: R^2 = (0.0569,)--> дисперсия фактора \"xi_3\" слабо объясняется регрессией => не линейно-зависим от остальных\n",
      "xi_4: R^2 = (0.1721,)--> дисперсия фактора \"xi_4\" слабо объясняется регрессией => не линейно-зависим от остальных\n",
      "xi_5: R^2 = (0.0601,)--> дисперсия фактора \"xi_5\" слабо объясняется регрессией => не линейно-зависим от остальных\n"
     ]
    }
   ],
   "source": [
    "R_squares = []\n",
    "#Пример с семинара \"значимость всей регрессии\"\n",
    "#берем проверяемый фактор за Y и проверяем значимость регрессии по остальным 4м факторам относительно него, (реальный Y игнорируется)\n",
    "for i in range(p):\n",
    "    PSI = np.hstack((X[:, :i], np.ones((n, 1)), X[:, i+1:])) #X кроме X_i\n",
    "    Y_i = X[:, i].reshape(1, -1).T # X_i\n",
    "    F = PSI.T @ PSI\n",
    "    F_inv = np.linalg.inv(F) #F^-1\n",
    "    beta_wave_i = F_inv @ PSI.T @ Y_i\n",
    "    e = Y_i - PSI@beta_wave_i\n",
    "    RSS = (e.T @ e)[0, 0]\n",
    "    TSS = np.sum(((Y_i - Y_i.mean()).ravel()) ** 2) \n",
    "    R_squares.append((TSS - RSS) / TSS) #коэфициент детерминации\n",
    "\n",
    "for i, R_square in enumerate(R_squares, start=1):\n",
    "    print(f'xi_{i}: R^2 = {np.round(R_square, 4), }' + f'--> дисперсия фактора \"xi_{i}\" слабо объясняется регрессией => не линейно-зависим от остальных')"
   ]
  },
  {
   "cell_type": "code",
   "execution_count": null,
   "id": "55f2f81e-83ff-4fa3-a106-6e0519be101a",
   "metadata": {},
   "outputs": [],
   "source": [
    "\n",
    "\n",
    "\n",
    "\n",
    "\n",
    "\n",
    "\n",
    "\n",
    "\n",
    "\n",
    "\n"
   ]
  },
  {
   "cell_type": "markdown",
   "id": "f25ac2a1-2247-442b-aee6-2861b1660fea",
   "metadata": {},
   "source": [
    "б) Определить уравнение линейной регрессии etta = betta_0 + SUM_(k=1, 5)(betta_k*xi_k)\n",
    "\n",
    "и проверить значимость коэффициентов"
   ]
  },
  {
   "cell_type": "code",
   "execution_count": 356,
   "id": "76a4646d-5c03-448a-9deb-9c4096dffcd4",
   "metadata": {},
   "outputs": [
    {
     "data": {
      "text/plain": [
       "array([[ 1.97195349],\n",
       "       [ 3.04088152],\n",
       "       [-2.0876283 ],\n",
       "       [ 1.12979173],\n",
       "       [ 1.20762377],\n",
       "       [-0.59639216]])"
      ]
     },
     "execution_count": 356,
     "metadata": {},
     "output_type": "execute_result"
    }
   ],
   "source": [
    "# beta~ = F^(-1)*PSI*Y\n",
    "PSI = np.hstack((np.ones((n, 1)), X))\n",
    "F = PSI.T @ PSI\n",
    "F_inv = np.linalg.inv(F)\n",
    "beta_wave = (F_inv @ PSI.T @ Y)\n",
    "beta_wave"
   ]
  },
  {
   "cell_type": "code",
   "execution_count": 357,
   "id": "4f1ab944-96ce-4c80-a7ef-571f4eba5381",
   "metadata": {},
   "outputs": [
    {
     "name": "stdout",
     "output_type": "stream",
     "text": [
      "etta = [1.972] + [3.0409]*xi_1 + [-2.0876]*xi_2 + [1.1298]*xi_3 + [1.2076]*xi_4 + [-0.5964]*xi_5\n"
     ]
    }
   ],
   "source": [
    "print('etta = ' + str(np.round(beta_wave[0], 4)) + ' + ' +\\\n",
    "      ' + '.join([f\"{np.round(beta_wave[i+1], 4)}*xi_{i+1}\" for i in range(p)]))"
   ]
  },
  {
   "cell_type": "code",
   "execution_count": null,
   "id": "afdeb811-431e-4617-bdbe-90c89c3cdc98",
   "metadata": {},
   "outputs": [],
   "source": [
    "\n",
    "\n",
    "\n"
   ]
  },
  {
   "cell_type": "markdown",
   "id": "59dd73eb-7681-46e7-ba60-296a6747245f",
   "metadata": {},
   "source": [
    "Проверка значимости"
   ]
  },
  {
   "cell_type": "code",
   "execution_count": 358,
   "id": "67729535-1a78-4d09-9d66-2bc7f7736052",
   "metadata": {},
   "outputs": [
    {
     "name": "stdout",
     "output_type": "stream",
     "text": [
      "beta_0: p-value(delta > [[7.7024]] | H_0) = [[9.37783e-10]] < alpha = 0.05 --> Коэффициент beta_0 - значим!\n",
      "beta_1: p-value(delta > [[9.5466]] | H_0) = [[2.18e-12]] < alpha = 0.05 --> Коэффициент beta_1 - значим!\n",
      "beta_2: p-value(delta > [[4.9908]] | H_0) = [[9.48406113e-06]] < alpha = 0.05 --> Коэффициент beta_2 - значим!\n",
      "beta_3: p-value(delta > [[2.7037]] | H_0) = [[0.00964154]] < alpha = 0.05 --> Коэффициент beta_3 - значим!\n",
      "beta_4: p-value(delta > [[2.6347]] | H_0) = [[0.01150723]] < alpha = 0.05 --> Коэффициент beta_4 - значим!\n",
      "beta_5: p-value(delta > [[1.8369]] | H_0) = [[0.07283885]] > alpha = 0.05 --> Коэффициент beta_5 - не значим!\n"
     ]
    }
   ],
   "source": [
    "#Пример с семинара \"гипотеза о значимости коэффициентов регрессии\"\n",
    "e = Y - PSI@beta_wave\n",
    "RSS = e.T @ e\n",
    "deltas = []\n",
    "p_values = []\n",
    "for i in range(len(beta_wave)):\n",
    "    delta_wave = abs((beta_wave[i]*(n-p)**0.5) / (F_inv[i, i] * RSS)**0.5)\n",
    "    p_value = 2 * t(n-p).sf(delta_wave) #p-value = 2 * P(delta >= |delta_wave|)\n",
    "    p_values.append(p_value)\n",
    "    deltas.append((delta_wave, p_value)) \n",
    "    \n",
    "for i, delta in enumerate(deltas):\n",
    "    delta_wave, p_value = delta\n",
    "    print(f'beta_{i}: p-value(delta > {np.round(delta_wave, 4)} | H_0) = {np.round(p_value, 15)} ' +\\\n",
    "          f'{\">\" if p_value > 0.05 else \"<\"} alpha = {0.05} --> Коэффициент beta_{i} -' +\\\n",
    "          f' {\"не значим!\" if p_value > 0.05 else \"значим!\"}')"
   ]
  },
  {
   "cell_type": "code",
   "execution_count": null,
   "id": "947e640e-5f4e-44d8-acaf-de4c26a063a5",
   "metadata": {},
   "outputs": [],
   "source": [
    "\n",
    "\n",
    "\n",
    "\n",
    "\n",
    "\n",
    "\n",
    "\n",
    "\n",
    "\n",
    "\n"
   ]
  },
  {
   "cell_type": "markdown",
   "id": "ac7287c4-4c79-4260-8f8f-45a776ea51f3",
   "metadata": {},
   "source": [
    "c) Определить коэффициент детерминации и проверить его значимость"
   ]
  },
  {
   "cell_type": "code",
   "execution_count": 359,
   "id": "5d73f8d7-7c8f-4445-a04e-376ae4e2205d",
   "metadata": {},
   "outputs": [
    {
     "name": "stdout",
     "output_type": "stream",
     "text": [
      "R^2 = [[0.7836]] - коэффициент детерминации\n"
     ]
    }
   ],
   "source": [
    "TSS = np.sum(((Y - Y.mean()).ravel()) ** 2)\n",
    "R_square = (TSS - RSS) / TSS\n",
    "print(f'R^2 = {np.round(R_square, 4)} - коэффициент детерминации')"
   ]
  },
  {
   "cell_type": "code",
   "execution_count": 360,
   "id": "ea11049e-8f66-40ac-bd5f-1e66e0525d23",
   "metadata": {},
   "outputs": [
    {
     "name": "stdout",
     "output_type": "stream",
     "text": [
      "p-value(delta > [[40.7487]] | H_0) = [[2.0482e-14]]\n",
      "[[2.0482e-14]] < alpha = 0.05 --> Отвергаем уверенно! (Регрессия очень значима)\n"
     ]
    }
   ],
   "source": [
    "#Пример с семинара \"значимость всей регрессии\"\n",
    "delta_wave = (R_square)/(1-R_square) * (n-p)/(p-1)\n",
    "p_value = f(dfn=p-1, dfd=n-p).sf(delta_wave) #p-value = Integral(delta_wave; +inf)( q(F(p-1, n-p) )dx\n",
    "print(f'p-value(delta > {np.round(delta_wave, 4)} | H_0) = {np.round(p_value, 18)}')\n",
    "print(f'{np.round(p_value, 18)} < alpha = {0.05} --> Отвергаем уверенно! (Регрессия очень значима)')"
   ]
  },
  {
   "cell_type": "code",
   "execution_count": null,
   "id": "936f214e-b345-488e-b698-0791b0ef146d",
   "metadata": {},
   "outputs": [],
   "source": [
    "\n",
    "\n",
    "\n",
    "\n",
    "\n",
    "\n",
    "\n",
    "\n",
    "\n"
   ]
  },
  {
   "cell_type": "markdown",
   "id": "c4779da3-075c-4177-a150-13da1449c159",
   "metadata": {},
   "source": [
    "d) Найти значение в точке x_k=0 и построить 95% доверительный интервал"
   ]
  },
  {
   "cell_type": "code",
   "execution_count": 361,
   "id": "69aac41b-90da-443d-9b23-e2b2b765a9d2",
   "metadata": {},
   "outputs": [
    {
     "name": "stdout",
     "output_type": "stream",
     "text": [
      "y_0 = 1.972\n"
     ]
    }
   ],
   "source": [
    "x_0 = np.zeros((p, 1))\n",
    "y_0 = (beta_wave[0] + np.dot(beta_wave[1:].T, x_0))[0,0]\n",
    "print(f'y_0 = {np.round(y_0, 4)}')"
   ]
  },
  {
   "cell_type": "code",
   "execution_count": 362,
   "id": "89492780-1c8e-4393-87b1-b18289555aa9",
   "metadata": {},
   "outputs": [
    {
     "name": "stdout",
     "output_type": "stream",
     "text": [
      "Confidence Interval = (-1.0887, 5.0326)\n"
     ]
    }
   ],
   "source": [
    "#пример с семинара \"Прогноз\"\n",
    "\n",
    "PSI_x_0 = np.hstack((np.ones((n, 1)), np.zeros((n, p))))\n",
    "# (y_regr - y)/(kappa*sqrt(RSS))*sqrt(n-p) ~ t(n-p), kappa = (1 + PSI_x_0 @ F_inv @ PSI_x_0.T)\n",
    "delta = ((((RSS)/(n-p)) * (1 + PSI_x_0 @ F_inv @ PSI_x_0.T)) ** 0.5)[0, 0]\n",
    "q = t(df=n-p).ppf(0.95 + (1-0.95)/2)\n",
    "left, right = y_0 - q*delta, y_0 + q*delta\n",
    "print(f'Confidence Interval = ({np.round(left, 4)}, {np.round(right, 4)})')"
   ]
  },
  {
   "cell_type": "code",
   "execution_count": null,
   "id": "3fb3e1fb-db73-4cb3-8322-25b6c0a3ca8b",
   "metadata": {},
   "outputs": [],
   "source": [
    "\n",
    "\n",
    "\n",
    "\n",
    "\n",
    "\n",
    "\n",
    "\n",
    "\n",
    "\n"
   ]
  },
  {
   "cell_type": "markdown",
   "id": "d2144433-a89f-4ce6-844f-6dae008d0622",
   "metadata": {},
   "source": [
    "e) Проверить предположение о независимости ошибок измерения"
   ]
  },
  {
   "cell_type": "code",
   "execution_count": 363,
   "id": "9d6adc18-93b4-40b4-8633-6d18359d4154",
   "metadata": {},
   "outputs": [
    {
     "name": "stdout",
     "output_type": "stream",
     "text": [
      "0.7925 > alpha = 0.05 --> Нет веских оснований отвергать гипотезы о случайности и независимости\n"
     ]
    }
   ],
   "source": [
    "#Гипотеза случайности (независимость и одинаково распределенность)\n",
    "a = e.ravel()\n",
    "I = 0 #число инверсий\n",
    "for i in range(len(a)):\n",
    "    I += np.sum(a[i] > a[i+1:])\n",
    "\n",
    "delta_wave = (I - (n*(n-1))/4) / ((n**3)/36)**0.5\n",
    "p_value = 2 * norm(0, 1).cdf(delta_wave)\n",
    "print(f'{np.round(p_value, 4)} > alpha = {0.05} '+\\\n",
    "      f'--> Нет веских оснований отвергать гипотезы о случайности и независимости')"
   ]
  },
  {
   "cell_type": "code",
   "execution_count": null,
   "id": "f4f5a2ac-db7e-4231-adb1-e824c13d2b8d",
   "metadata": {},
   "outputs": [],
   "source": [
    "\n",
    "\n",
    "\n",
    "\n",
    "\n",
    "\n",
    "\n",
    "\n",
    "\n",
    "\n",
    "\n"
   ]
  },
  {
   "cell_type": "markdown",
   "id": "85bb100d-eb8d-4aa2-b97f-d9158bad5ba5",
   "metadata": {},
   "source": [
    "f) Проверить предположение о нормальности распределения ошибки (бутстрап)"
   ]
  },
  {
   "cell_type": "code",
   "execution_count": 364,
   "id": "2c435403-ebc8-4063-a388-ac1298ca3070",
   "metadata": {},
   "outputs": [
    {
     "name": "stdout",
     "output_type": "stream",
     "text": [
      "sigma = 1.4979 | real_sigma = 1.5\n"
     ]
    }
   ],
   "source": [
    "# Оценка sigma^2\n",
    "D_est = RSS / (n-p)\n",
    "sigma_est = D_est ** 0.5 # неизвестный параметр модели (стандартное отклонение)\n",
    "print(f'sigma = {np.round(sigma_est[0,0], 4)} | real_sigma = {sd}')"
   ]
  },
  {
   "cell_type": "code",
   "execution_count": 365,
   "id": "c75616d9-e322-4146-b742-0d84d082fb14",
   "metadata": {},
   "outputs": [],
   "source": [
    "class Fempirical:\n",
    "    def __init__(self, sample):\n",
    "        n = np.size(sample)\n",
    "        x, y = np.unique(sample, return_counts=True)\n",
    "        y = (y/np.sum(y)).cumsum()\n",
    "        y = np.hstack((np.array([0.]), y))\n",
    "        self.x = np.array(x).astype(float)\n",
    "        self.y = np.array(y).astype(float)\n",
    "\n",
    "    def cdf(self, x):\n",
    "        if x <= np.min(self.x):\n",
    "            return 0.\n",
    "        elif x > np.max(self.x):\n",
    "            return 1.\n",
    "        return self.y[np.where((self.x >= x) == True)[0][0]]\n",
    "\n",
    "\n",
    "class Festimated_OMM():\n",
    "    def __init__(self, e):\n",
    "        self.mean = 0.0\n",
    "        self.sigma = self.sigma_est(e)\n",
    "    def get_params(self):\n",
    "        return self.mean, self.sigma\n",
    "    def sigma_est(self, e):\n",
    "        n = np.size(e)\n",
    "        sigma = (np.sum(e**2) / n) ** 0.5\n",
    "        return sigma\n",
    "    def cdf(self, x):\n",
    "        return norm(self.mean, self.sigma).cdf(x)"
   ]
  },
  {
   "cell_type": "code",
   "execution_count": 366,
   "id": "8ff59bc5-ede1-49d8-9430-14cc4095b1c4",
   "metadata": {},
   "outputs": [],
   "source": [
    "def bootstrap_parametric(sample,\n",
    "                        BOOTSTRAP_RANGE=50_000):\n",
    "    def delta_est_Kolmagorov(Fest, Femp):\n",
    "        def delta(x):\n",
    "            return -abs(Fest.cdf(x) - Femp.cdf(x)) # нам нужен максимум, поэтому минус\n",
    "\n",
    "        result = minimize(delta, [0], method='Nelder-Mead')\n",
    "        return n**0.5 * -delta(result.x)[0]\n",
    "\n",
    "    n = np.size(sample)\n",
    "    sample = sample.ravel()\n",
    "\n",
    "    F_emp = Fempirical(sample)\n",
    "    F_est = Festimated_OMM(sample)\n",
    "    delta_est = delta_est_Kolmagorov(F_est, F_emp)\n",
    "    mean_est, sigma_est = F_est.get_params()\n",
    "\n",
    "    delta_ests = []\n",
    "    sigma_ests = []\n",
    "    k = 0\n",
    "    for i in (range(BOOTSTRAP_RANGE)):\n",
    "        sample_i = norm(mean_est, sigma_est).rvs(size=n) #генерация подвыборки объема n\n",
    "\n",
    "        F_emp_i = Fempirical(sample_i)\n",
    "        F_est_i = Festimated_OMM(sample_i)\n",
    "        delta_est_i = delta_est_Kolmagorov(F_est_i, F_emp_i)\n",
    "\n",
    "        k += delta_est_i > delta_est\n",
    "        delta_ests.append(delta_est_i)\n",
    "        sigma_ests.append(F_est_i.sigma)\n",
    "\n",
    "    p_value = k/BOOTSTRAP_RANGE\n",
    "\n",
    "    return sigma_est, delta_est, delta_ests, sigma_ests, p_value"
   ]
  },
  {
   "cell_type": "code",
   "execution_count": 367,
   "id": "2fa17bc5-176c-4aac-8aa3-9529c7ac4643",
   "metadata": {},
   "outputs": [],
   "source": [
    "\n",
    "tmp = bootstrap_parametric(e)\n",
    "result = {'sigma_est': tmp[0], 'delta_est': tmp[1], 'delta_ests': tmp[2], 'sigma_ests': tmp[3], 'p_value': tmp[4]}"
   ]
  },
  {
   "cell_type": "code",
   "execution_count": 368,
   "id": "4e4ccc67-4b5c-4d0e-9686-9703271a8ab6",
   "metadata": {},
   "outputs": [
    {
     "name": "stdout",
     "output_type": "stream",
     "text": [
      "Результаты\n",
      "sigma_est = 1.421 | real_sigma = 1.5\n",
      "p-value = P(delta > 0.2843) = 0.7561 > alpha = 0.05 --> Нет веских оснований отвергать гипотезы о нормальности распределения ошибок\n",
      "\n"
     ]
    }
   ],
   "source": [
    "print(f'Результаты')\n",
    "sigma_est, delta_est, delta_ests, sigma_ests, p_value = result.values()\n",
    "print(f'sigma_est = {np.round(sigma_est, 4)} | real_sigma = {sd}')\n",
    "print(f'p-value = P(delta > {np.round(delta_est, 4)}) = {np.round(p_value, 4)}' +\\\n",
    "     f' > alpha = {0.05} --> Нет веских оснований отвергать гипотезы о нормальности распределения ошибок')\n",
    "print()"
   ]
  },
  {
   "cell_type": "code",
   "execution_count": null,
   "id": "ccabf829-b04e-41d1-a848-efe8018f451e",
   "metadata": {},
   "outputs": [],
   "source": [
    "\n",
    "\n",
    "\n",
    "\n",
    "\n",
    "\n",
    "\n",
    "\n",
    "\n",
    "\n",
    "\n",
    "\n",
    "\n",
    "\n"
   ]
  },
  {
   "cell_type": "markdown",
   "id": "bee92919-bc0d-4ec5-890c-4768e0f76753",
   "metadata": {},
   "source": [
    "g) Исследовать регрессию на выбросы"
   ]
  },
  {
   "cell_type": "code",
   "execution_count": 369,
   "id": "4b54e72f-2e17-4cda-b3ad-fdc92ab8ef9c",
   "metadata": {},
   "outputs": [],
   "source": [
    "e_min, e_median, e_max, e_q25, e_q75 = e.min(), np.median(e), e.max(), np.quantile(e, .25), np.quantile(e, .75)\n",
    "epsilon = e_q75-e_q25\n",
    "e_clear = e[np.where((e_q25 - 1.5*epsilon < e) & (e_q75 + 1.5*epsilon > e))]\n",
    "Y_clear = Y[np.where((e_q25 - 1.5*epsilon < e) & (e_q75 + 1.5*epsilon > e))]"
   ]
  },
  {
   "cell_type": "code",
   "execution_count": 370,
   "id": "a2d8fd43-926a-467f-baa4-37b93b163cd0",
   "metadata": {},
   "outputs": [
    {
     "data": {
      "image/png": "[encoded data removed]",
      "text/plain": [
       "<Figure size 1600x800 with 1 Axes>"
      ]
     },
     "metadata": {},
     "output_type": "display_data"
    }
   ],
   "source": [
    "plt.figure(figsize = (16, 8))\n",
    "plt.grid()\n",
    "plt.boxplot(e, vert = False)\n",
    "plt.title('boxplot ', fontsize=20)\n",
    "plt.show()"
   ]
  },
  {
   "cell_type": "code",
   "execution_count": 371,
   "id": "e2686177-2f64-46d1-abb6-0d56e6580a89",
   "metadata": {},
   "outputs": [
    {
     "data": {
      "text/plain": [
       "48"
      ]
     },
     "execution_count": 371,
     "metadata": {},
     "output_type": "execute_result"
    }
   ],
   "source": [
    "if np.size(e_clear)==np.size(e):\n",
    "    e_clear = e[np.where((e_min < e) & (e_max > e))]\n",
    "    Y_clear = Y[np.where((e_min < e) & (e_max > e))]\n",
    "np.size(e_clear)"
   ]
  },
  {
   "cell_type": "code",
   "execution_count": 372,
   "id": "163ff242-79ad-4b22-a7e3-10468017b67d",
   "metadata": {},
   "outputs": [
    {
     "name": "stdout",
     "output_type": "stream",
     "text": [
      "R^2 = 0.8246 - коэффициент детерминации после отбрасывания выбросов\n"
     ]
    }
   ],
   "source": [
    "RSS_clear = e_clear.T @ e_clear\n",
    "TSS_clear = np.sum(((Y_clear - Y_clear.mean()).ravel()) ** 2)\n",
    "R_clear_square = (TSS_clear - RSS_clear) / TSS_clear\n",
    "print(f'R^2 = {np.round(R_clear_square, 4)} - коэффициент детерминации после отбрасывания выбросов')"
   ]
  },
  {
   "cell_type": "code",
   "execution_count": null,
   "id": "51bd9780-7913-434a-a587-3fdcff0c2916",
   "metadata": {},
   "outputs": [],
   "source": [
    "\n",
    "\n",
    "\n",
    "\n",
    "\n",
    "\n",
    "\n",
    "\n",
    "\n",
    "\n",
    "\n",
    "\n",
    "\n",
    "\n",
    "\n"
   ]
  },
  {
   "cell_type": "markdown",
   "id": "f95585ad-f082-4dca-b83d-20b5a003ffaa",
   "metadata": {},
   "source": [
    "h) Провести кросспроверку регрессии"
   ]
  },
  {
   "cell_type": "code",
   "execution_count": 373,
   "id": "b1ab980d-7f34-4bf4-b44e-cd37982998b7",
   "metadata": {},
   "outputs": [
    {
     "name": "stdout",
     "output_type": "stream",
     "text": [
      "CVSS = 234.0771 | TSS = 466.6756 --> R^2 = 0.4984 < 0.7 --> Предсказывает плохо!\n"
     ]
    }
   ],
   "source": [
    "def cross_validation(sample):\n",
    "    n = np.size(sample, axis=0)\n",
    "    CVSS = 0\n",
    "    for i in range(n):\n",
    "        train_i = np.vstack((sample[:i, :], sample[(i+1):, :]))\n",
    "        test_i = sample[i, :]\n",
    "\n",
    "        PSI, Y = sample[:, :-1], sample[:, -1]\n",
    "        F_i = PSI.T @ PSI\n",
    "        F_i_inv = np.linalg.inv(F_i)\n",
    "        beta_wave = (F_i_inv @ PSI.T @ Y)\n",
    "        \n",
    "        x_i = test_i[:-1]\n",
    "        y_i = test_i[-1]\n",
    "        \n",
    "        y_est_i = np.dot(beta_wave, x_i)\n",
    "        CVSS_i = (y_i - y_est_i) ** 2\n",
    "        CVSS += CVSS_i\n",
    "    return CVSS\n",
    "\n",
    "CVSS = cross_validation(sample)\n",
    "print(f'CVSS = {np.round(CVSS, 4)} | TSS = {np.round(TSS, 4)} -->' +\\\n",
    "      f' R^2 = {np.round((TSS-CVSS)/TSS, 4)} < 0.7 --> Предсказывает плохо!')"
   ]
  },
  {
   "cell_type": "code",
   "execution_count": null,
   "id": "62403c5f-16d1-44e5-a343-a82dadef98e6",
   "metadata": {},
   "outputs": [],
   "source": [
    "\n",
    "\n",
    "\n",
    "\n",
    "\n",
    "\n",
    "\n",
    "\n",
    "\n",
    "\n",
    "\n",
    "\n",
    "\n"
   ]
  },
  {
   "cell_type": "markdown",
   "id": "dadc4eb8-ddb7-42d6-b3d1-941853586054",
   "metadata": {},
   "source": [
    "i) Проверить адекватность регрессии, сделав 5 повторных измерений в одной точке"
   ]
  },
  {
   "cell_type": "code",
   "execution_count": 374,
   "id": "2ab42594-b605-4d9c-a640-7500adb8ef7d",
   "metadata": {},
   "outputs": [],
   "source": [
    "k=5\n",
    "p = 5 # количество случайных величин кси\n",
    "n = 50  # объем выборки\n",
    "a, b = -1, 1\n",
    "\n",
    "# отклик - это случайная величина распределенная нормально с параметрами mean, sd\n",
    "mean = lambda X, coefs: np.dot(X, np.array(coefs)) + 2 # etta ~ N(2 + 3x_1 - 2x_2 + x_3 + x_4 - x_5, 1.5**2)\n",
    "sd = 1.5\n",
    "factors_a = [uniform(a, b-a) for _ in range(p)]\n",
    "# реализация вектора факторов\n",
    "x_a = np.array([stat.rvs(size=1) for stat in factors]).T  # Т, чтобы каждая строка представляла один случайный вектор\n",
    "X_a = np.tile(x_a, (k, 1)) # повторяем строку 5 раз\n",
    "# отклик\n",
    "reaction_a = norm(mean(X_a, [3, -2, 1, 1, -1]), sd)\n",
    "# реализация отклика\n",
    "Y_a = reaction_a.rvs(size=k)\n",
    "Y_a = Y_a.reshape(1, -1).T\n",
    "sample_a = np.hstack((X_a, Y_a))\n"
   ]
  },
  {
   "cell_type": "code",
   "execution_count": 375,
   "id": "c9d8077d-b7fd-45a1-8260-be936dd76b5c",
   "metadata": {},
   "outputs": [],
   "source": [
    "df = pd.DataFrame(data=sample_a, columns=names)\n",
    "sd_est = np.sum((Y_a-np.mean(Y_a))**2) / (k-1)\n",
    "\n",
    "delta_wave = RSS / ((n-p)*sd_est)\n",
    "p_value = f(n-p, k-1).sf(delta_wave)"
   ]
  },
  {
   "cell_type": "code",
   "execution_count": 376,
   "id": "27eebb4f-6b91-465b-9c46-7dbd0f7e2a7d",
   "metadata": {},
   "outputs": [
    {
     "name": "stdout",
     "output_type": "stream",
     "text": [
      "p-value(delta > [[0.9664]] | H_0) = 0.6002 > alpha = 0.05 --> Нет оснований отвергать гипотезу --> модель адекватна\n"
     ]
    },
    {
     "data": {
      "text/html": [
       "<div>\n",
       "<style scoped>\n",
       "    .dataframe tbody tr th:only-of-type {\n",
       "        vertical-align: middle;\n",
       "    }\n",
       "\n",
       "    .dataframe tbody tr th {\n",
       "        vertical-align: top;\n",
       "    }\n",
       "\n",
       "    .dataframe thead th {\n",
       "        text-align: right;\n",
       "    }\n",
       "</style>\n",
       "<table border=\"1\" class=\"dataframe\">\n",
       "  <thead>\n",
       "    <tr style=\"text-align: right;\">\n",
       "      <th></th>\n",
       "      <th>$\\xi_1$</th>\n",
       "      <th>$\\xi_2$</th>\n",
       "      <th>$\\xi_3$</th>\n",
       "      <th>$\\xi_4$</th>\n",
       "      <th>$\\xi_5$</th>\n",
       "      <th>$\\eta$</th>\n",
       "    </tr>\n",
       "  </thead>\n",
       "  <tbody>\n",
       "    <tr>\n",
       "      <th>0</th>\n",
       "      <td>0.060422</td>\n",
       "      <td>0.575646</td>\n",
       "      <td>-0.301639</td>\n",
       "      <td>-0.462137</td>\n",
       "      <td>0.728283</td>\n",
       "      <td>1.020969</td>\n",
       "    </tr>\n",
       "    <tr>\n",
       "      <th>1</th>\n",
       "      <td>0.060422</td>\n",
       "      <td>0.575646</td>\n",
       "      <td>-0.301639</td>\n",
       "      <td>-0.462137</td>\n",
       "      <td>0.728283</td>\n",
       "      <td>0.916386</td>\n",
       "    </tr>\n",
       "    <tr>\n",
       "      <th>2</th>\n",
       "      <td>0.060422</td>\n",
       "      <td>0.575646</td>\n",
       "      <td>-0.301639</td>\n",
       "      <td>-0.462137</td>\n",
       "      <td>0.728283</td>\n",
       "      <td>-1.772245</td>\n",
       "    </tr>\n",
       "    <tr>\n",
       "      <th>3</th>\n",
       "      <td>0.060422</td>\n",
       "      <td>0.575646</td>\n",
       "      <td>-0.301639</td>\n",
       "      <td>-0.462137</td>\n",
       "      <td>0.728283</td>\n",
       "      <td>1.644639</td>\n",
       "    </tr>\n",
       "    <tr>\n",
       "      <th>4</th>\n",
       "      <td>0.060422</td>\n",
       "      <td>0.575646</td>\n",
       "      <td>-0.301639</td>\n",
       "      <td>-0.462137</td>\n",
       "      <td>0.728283</td>\n",
       "      <td>-1.271596</td>\n",
       "    </tr>\n",
       "  </tbody>\n",
       "</table>\n",
       "</div>"
      ],
      "text/plain": [
       "    $\\xi_1$   $\\xi_2$   $\\xi_3$   $\\xi_4$   $\\xi_5$    $\\eta$\n",
       "0  0.060422  0.575646 -0.301639 -0.462137  0.728283  1.020969\n",
       "1  0.060422  0.575646 -0.301639 -0.462137  0.728283  0.916386\n",
       "2  0.060422  0.575646 -0.301639 -0.462137  0.728283 -1.772245\n",
       "3  0.060422  0.575646 -0.301639 -0.462137  0.728283  1.644639\n",
       "4  0.060422  0.575646 -0.301639 -0.462137  0.728283 -1.271596"
      ]
     },
     "execution_count": 376,
     "metadata": {},
     "output_type": "execute_result"
    }
   ],
   "source": [
    "print(f'p-value(delta > {np.round(delta_wave, 4)} | H_0) = {np.round(p_value[0,0], 4)} >' +\\\n",
    "      f' alpha = {0.05} --> Нет оснований отвергать гипотезу --> модель адекватна')\n",
    "df"
   ]
  },
  {
   "cell_type": "code",
   "execution_count": null,
   "id": "bfdf9890-1244-4635-945e-f83beb2904e1",
   "metadata": {},
   "outputs": [],
   "source": [
    "\n",
    "\n",
    "\n",
    "\n",
    "\n",
    "\n",
    "\n",
    "\n",
    "\n",
    "\n",
    "\n"
   ]
  },
  {
   "cell_type": "markdown",
   "id": "84df7722-c513-4ffd-8a55-9bf744725f51",
   "metadata": {},
   "source": [
    "j) Удалить переменную соответствующую наименее значимому коэффициенту и повторить пункты b и c, сравнить уравнения регрессии"
   ]
  },
  {
   "cell_type": "code",
   "execution_count": 377,
   "id": "230c6549-b0ed-44e8-89f0-11858f887082",
   "metadata": {},
   "outputs": [
    {
     "name": "stdout",
     "output_type": "stream",
     "text": [
      "Наименее значимый фактор - это xi_5\n"
     ]
    },
    {
     "data": {
      "text/html": [
       "<div>\n",
       "<style scoped>\n",
       "    .dataframe tbody tr th:only-of-type {\n",
       "        vertical-align: middle;\n",
       "    }\n",
       "\n",
       "    .dataframe tbody tr th {\n",
       "        vertical-align: top;\n",
       "    }\n",
       "\n",
       "    .dataframe thead th {\n",
       "        text-align: right;\n",
       "    }\n",
       "</style>\n",
       "<table border=\"1\" class=\"dataframe\">\n",
       "  <thead>\n",
       "    <tr style=\"text-align: right;\">\n",
       "      <th></th>\n",
       "      <th>$\\xi_1$</th>\n",
       "      <th>$\\xi_2$</th>\n",
       "      <th>$\\xi_3$</th>\n",
       "      <th>$\\xi_4$</th>\n",
       "      <th>$\\eta$</th>\n",
       "    </tr>\n",
       "  </thead>\n",
       "  <tbody>\n",
       "    <tr>\n",
       "      <th>0</th>\n",
       "      <td>0.324426</td>\n",
       "      <td>0.247679</td>\n",
       "      <td>0.596298</td>\n",
       "      <td>0.627871</td>\n",
       "      <td>3.832853</td>\n",
       "    </tr>\n",
       "    <tr>\n",
       "      <th>1</th>\n",
       "      <td>-0.980013</td>\n",
       "      <td>0.183822</td>\n",
       "      <td>0.205116</td>\n",
       "      <td>0.649288</td>\n",
       "      <td>-0.097368</td>\n",
       "    </tr>\n",
       "    <tr>\n",
       "      <th>2</th>\n",
       "      <td>-0.898224</td>\n",
       "      <td>-0.030263</td>\n",
       "      <td>-0.050250</td>\n",
       "      <td>0.453196</td>\n",
       "      <td>-0.267356</td>\n",
       "    </tr>\n",
       "    <tr>\n",
       "      <th>3</th>\n",
       "      <td>-0.999474</td>\n",
       "      <td>0.688524</td>\n",
       "      <td>-0.146266</td>\n",
       "      <td>0.284340</td>\n",
       "      <td>-1.839102</td>\n",
       "    </tr>\n",
       "    <tr>\n",
       "      <th>4</th>\n",
       "      <td>-0.640467</td>\n",
       "      <td>0.433535</td>\n",
       "      <td>0.377307</td>\n",
       "      <td>0.658133</td>\n",
       "      <td>-1.572713</td>\n",
       "    </tr>\n",
       "  </tbody>\n",
       "</table>\n",
       "</div>"
      ],
      "text/plain": [
       "    $\\xi_1$   $\\xi_2$   $\\xi_3$   $\\xi_4$    $\\eta$\n",
       "0  0.324426  0.247679  0.596298  0.627871  3.832853\n",
       "1 -0.980013  0.183822  0.205116  0.649288 -0.097368\n",
       "2 -0.898224 -0.030263 -0.050250  0.453196 -0.267356\n",
       "3 -0.999474  0.688524 -0.146266  0.284340 -1.839102\n",
       "4 -0.640467  0.433535  0.377307  0.658133 -1.572713"
      ]
     },
     "execution_count": 377,
     "metadata": {},
     "output_type": "execute_result"
    }
   ],
   "source": [
    "least_significant_factor_index = np.where(p_values == np.max(p_values))[0][0]\n",
    "print(f'Наименее значимый фактор - это xi_{least_significant_factor_index}')\n",
    "\n",
    "X_new = np.hstack((X[:, :least_significant_factor_index-1], X[:, least_significant_factor_index:]))\n",
    "Y_new = Y\n",
    "sample_new = np.hstack((X_new, Y_new))\n",
    "names_new = names[:least_significant_factor_index-1] + names[least_significant_factor_index:]\n",
    "\n",
    "df = pd.DataFrame(data=sample_new, columns=names_new)\n",
    "df.head()"
   ]
  },
  {
   "cell_type": "code",
   "execution_count": 378,
   "id": "be6663fb-ab3f-4f19-b5f6-1b77b2f965c1",
   "metadata": {},
   "outputs": [
    {
     "data": {
      "text/plain": [
       "array([[ 1.90571378],\n",
       "       [ 2.98066314],\n",
       "       [-2.12672738],\n",
       "       [ 1.20810769],\n",
       "       [ 1.36003632]])"
      ]
     },
     "execution_count": 378,
     "metadata": {},
     "output_type": "execute_result"
    }
   ],
   "source": [
    "#Повторяем b\n",
    "# beta~ = F^(-1)*PSI*Y\n",
    "PSI_new = np.hstack((np.ones((n, 1)), X_new))\n",
    "F_new = PSI_new.T @ PSI_new\n",
    "F_inv_new = np.linalg.inv(F_new)\n",
    "beta_wave_new = (F_inv_new @ PSI_new.T @ Y_new)\n",
    "beta_wave_new"
   ]
  },
  {
   "cell_type": "code",
   "execution_count": 379,
   "id": "4a768b40-7785-428d-8b73-0675c2e922d3",
   "metadata": {},
   "outputs": [
    {
     "name": "stdout",
     "output_type": "stream",
     "text": [
      "eta = [1.9057] + [2.9807]*xi_1 + [-2.1267]*xi_2 + [1.2081]*xi_3 + [1.36]*xi_4\n"
     ]
    }
   ],
   "source": [
    "print('eta = ' + str(np.round(beta_wave_new[0], 4)) + ' + ' +\\\n",
    "      ' + '.join([f\"{np.round(beta_wave_new[i+1], 4)}*\" +\\\n",
    "                  f\"xi_{i+1 if i != least_significant_factor_index-1 else i+2}\" for i in range(p-1)]))"
   ]
  },
  {
   "cell_type": "code",
   "execution_count": 380,
   "id": "e4e22597-ee5a-4c5f-b9fc-b51b6fd3f93d",
   "metadata": {},
   "outputs": [
    {
     "name": "stdout",
     "output_type": "stream",
     "text": [
      "beta_0: p-value(delta > [[7.2517]] | H_0) = [[4.32094e-09]] < alpha = 0.05 --> Коэффициент beta_0 - значим!\n",
      "beta_1: p-value(delta > [[9.0735]] | H_0) = [[9.982e-12]] < alpha = 0.05 --> Коэффициент beta_1 - значим!\n",
      "beta_2: p-value(delta > [[4.9102]] | H_0) = [[1.23997393e-05]] < alpha = 0.05 --> Коэффициент beta_2 - значим!\n",
      "beta_3: p-value(delta > [[2.8031]] | H_0) = [[0.00744082]] < alpha = 0.05 --> Коэффициент beta_3 - значим!\n",
      "beta_4: p-value(delta > [[2.91]] | H_0) = [[0.00560099]] < alpha = 0.05 --> Коэффициент beta_4 - значим!\n"
     ]
    }
   ],
   "source": [
    "e_new = Y_new - PSI_new@beta_wave_new\n",
    "RSS_new = e_new.T @ e_new\n",
    "deltas_new = []\n",
    "p_values_new = []\n",
    "for i in range(len(beta_wave_new)):\n",
    "    delta_wave_new = abs((beta_wave_new[i]*(n-p)**0.5) / (F_inv_new[i, i] * RSS_new)**0.5)\n",
    "    p_value_new = 2 * t(n-p).sf(delta_wave_new) #p-value = 2 * P(delta >= |delta_wave|)\n",
    "    p_values_new.append(p_value_new)\n",
    "    deltas_new.append((delta_wave_new, p_value_new)) \n",
    "    \n",
    "for i_new, delta_new in enumerate(deltas_new):\n",
    "    delta_wave_new, p_value_new = delta_new\n",
    "    print(f'beta_{i_new}: p-value(delta > {np.round(delta_wave_new, 4)} | H_0) = {np.round(p_value_new, 15)} ' +\\\n",
    "          f'{\">\" if p_value_new > 0.05 else \"<\"} alpha = {0.05} --> Коэффициент beta_{i_new} -' +\\\n",
    "          f' {\"не значим!\" if p_value_new > 0.05 else \"значим!\"}')"
   ]
  },
  {
   "cell_type": "code",
   "execution_count": 381,
   "id": "6b25337e-41b5-4ad2-b2f8-abc0521eda70",
   "metadata": {},
   "outputs": [],
   "source": [
    "\n",
    "\n",
    "#Повторяем с"
   ]
  },
  {
   "cell_type": "code",
   "execution_count": 382,
   "id": "838d28b1-f83c-4a2e-832a-6dbb324da58b",
   "metadata": {},
   "outputs": [
    {
     "name": "stdout",
     "output_type": "stream",
     "text": [
      "R^2_new = [[0.7674]] - коэффициент детерминации\n"
     ]
    }
   ],
   "source": [
    "TSS_new = np.sum(((Y_new - Y_new.mean()).ravel()) ** 2)\n",
    "R_square_new = (TSS_new - RSS_new) / TSS_new\n",
    "print(f'R^2_new = {np.round(R_square_new, 4)} - коэффициент детерминации')"
   ]
  },
  {
   "cell_type": "code",
   "execution_count": 383,
   "id": "a881d69e-7b87-49ef-b8ac-3428cea6efd9",
   "metadata": {},
   "outputs": [],
   "source": [
    "\n",
    "\n",
    "#Cравнение уравнений регрессии"
   ]
  },
  {
   "cell_type": "code",
   "execution_count": 384,
   "id": "d49b409c-4f63-4e7b-876c-d2c75606e3f6",
   "metadata": {},
   "outputs": [
    {
     "name": "stdout",
     "output_type": "stream",
     "text": [
      "1 уравнение\n",
      "eta = [1.972] + [3.0409]*xi_1 + [-2.0876]*xi_2 + [1.1298]*xi_3 + [1.2076]*xi_4 + [-0.5964]*xi_5\n",
      "\n",
      "2 уравнение\n",
      "eta = [1.9057] + [2.9807]*xi_1 + [-2.1267]*xi_2 + [1.2081]*xi_3 + [1.36]*xi_4\n"
     ]
    }
   ],
   "source": [
    "print('1 уравнение')\n",
    "print('eta = ' + str(np.round(beta_wave[0], 4)) + ' + ' +\\\n",
    "      ' + '.join([f\"{np.round(beta_wave[i+1], 4)}*xi_{i+1}\" for i in range(p)]))\n",
    "print()\n",
    "print('2 уравнение')\n",
    "print('eta = ' + str(np.round(beta_wave_new[0], 4)) + ' + ' +\\\n",
    "      ' + '.join([f\"{np.round(beta_wave_new[i+1], 4)}*\" +\\\n",
    "                  f\"xi_{i+1 if i != least_significant_factor_index-1 else i+2}\" for i in range(p-1)]))"
   ]
  },
  {
   "cell_type": "code",
   "execution_count": 385,
   "id": "c96ebc60-b457-47d9-ac90-1af632c54d14",
   "metadata": {},
   "outputs": [
    {
     "name": "stdout",
     "output_type": "stream",
     "text": [
      "p-value(delta > [[3.3741]] | H_0) = [[0.0728]] > alpha = 0.05 --> Можно откинуть лишний фактор (нет оснований отвергать короткую)\n"
     ]
    }
   ],
   "source": [
    "#сравнение короткой регрессии с длинной\n",
    "delta_wave_comp = abs((RSS_new - RSS)*(n-p)/((RSS)))\n",
    "p_value_comp = f(1, n-p).sf(delta_wave_comp)\n",
    "\n",
    "if(p_value_comp > 0.05):\n",
    "    print(f'p-value(delta > {np.round(delta_wave_comp, 4)} | H_0) = {np.round(p_value_comp, 4)}' +\\\n",
    "      f' > alpha = {0.05} --> Можно откинуть лишний фактор (нет оснований отвергать короткую)')\n",
    "else:\n",
    "    print(f'p-value(delta > {np.round(delta_wave_comp, 4)} | H_0) = {np.round(p_value_comp, 4)}' +\\\n",
    "      f' < alpha = {0.05} --> Наименее значимый фактор важен (отвергаем короткую)')"
   ]
  },
  {
   "cell_type": "code",
   "execution_count": null,
   "id": "5507c627-4bfe-49e6-afc6-f60e8951303a",
   "metadata": {},
   "outputs": [],
   "source": [
    "\n",
    "\n",
    "\n",
    "\n",
    "\n"
   ]
  },
  {
   "cell_type": "markdown",
   "id": "37ee3a02-66e2-4f3e-959d-6604f4ec60f5",
   "metadata": {},
   "source": [
    "k) Сравнить регрессии бутстрапом (ПОДАРОК)"
   ]
  },
  {
   "cell_type": "code",
   "execution_count": 407,
   "id": "29301761-92ec-4326-8505-050892f75470",
   "metadata": {},
   "outputs": [],
   "source": [
    "def bootstrap_comparing_noparanetric(sample, BOOTSTRAP_RANGE=1000):\n",
    "    delta_ests = []\n",
    "    k = 0\n",
    "    for i in (range(BOOTSTRAP_RANGE)):\n",
    "        indexes = np.random.choice(sample.shape[0], size=sample.shape[0], replace=True)\n",
    "        sample_i = sample[indexes]\n",
    "        X_long_i = sample_i[:, :-1]\n",
    "        Y_long_i = sample_i[:, -1]\n",
    "        \n",
    "        #long\n",
    "        PSI_long = np.hstack((np.ones((n, 1)), X_long_i))\n",
    "        F_long = PSI_long.T @ PSI_long\n",
    "        F_inv_long = np.linalg.inv(F_long)\n",
    "        beta_wave_long = (F_inv_long @ PSI_long.T @ Y_long_i)\n",
    "        e_long = Y_long_i - PSI_long@beta_wave_long\n",
    "        RSS_long = e_long.T @ e_long\n",
    "\n",
    "        #least_significant_factor_index\n",
    "        deltas_lsf = []\n",
    "        p_values_lsf = []\n",
    "        for i in range(len(beta_wave_long)):\n",
    "            delta_wave_lsf = abs((beta_wave_long[i]*(n-p)**0.5) / (F_inv_long[i, i] * RSS_long)**0.5)\n",
    "            p_value_lsf = 2 * t(n-p).sf(delta_wave_lsf) #p-value = 2 * P(delta >= |delta_wave|)\n",
    "            p_values_lsf.append(p_value_lsf)\n",
    "            deltas_lsf.append((delta_wave_lsf, p_value_lsf)) \n",
    "        least_significant_factor_index_i = np.where(p_values_lsf == np.max(p_values_lsf))[0][0]\n",
    "\n",
    "        \n",
    "        #short\n",
    "        X_short_i = np.hstack((X_long_i[:, :least_significant_factor_index_i-1], X_long_i[:, least_significant_factor_index_i:]))\n",
    "        \n",
    "        PSI_short = np.hstack((np.ones((n, 1)), X_short_i))\n",
    "        F_short = PSI_short.T @ PSI_short\n",
    "        F_inv_short = np.linalg.inv(F_short)\n",
    "        beta_wave_short = (F_inv_short @ PSI_short.T @ Y_long_i)\n",
    "        e_short = Y_long_i - PSI_short@beta_wave_short\n",
    "        RSS_short = e_short.T @ e_short\n",
    "        \n",
    "\n",
    "        delta_est_i = abs((RSS_short - RSS_long)*(n-p)/((RSS_long)))\n",
    "\n",
    "        if delta_est_i > delta_wave_comp:\n",
    "            k+=1\n",
    "            delta_ests.append(delta_est_i)\n",
    "\n",
    "    p_value = k/BOOTSTRAP_RANGE\n",
    "    return p_value, delta_ests"
   ]
  },
  {
   "cell_type": "code",
   "execution_count": 408,
   "id": "31b56745-6130-4011-8ee1-ff2c00a7bd0b",
   "metadata": {},
   "outputs": [
    {
     "data": {
      "text/plain": [
       "0.267"
      ]
     },
     "execution_count": 408,
     "metadata": {},
     "output_type": "execute_result"
    }
   ],
   "source": [
    "p_value, delta_ests = bootstrap_comparing_noparanetric(sample)\n",
    "p_value"
   ]
  },
  {
   "cell_type": "code",
   "execution_count": 409,
   "id": "3e3e0e21-e10e-4993-b62c-a17ad7a25f61",
   "metadata": {},
   "outputs": [
    {
     "name": "stdout",
     "output_type": "stream",
     "text": [
      "p-value = 0.267 > alpha = 0.05 --> Можно откинуть лишний фактор (нет оснований отвергать короткую)\n"
     ]
    }
   ],
   "source": [
    "if(p_value > 0.05):\n",
    "    print(f'p-value = {np.round(p_value, 4)}' +\\\n",
    "      f' > alpha = {0.05} --> Можно откинуть лишний фактор (нет оснований отвергать короткую)')\n",
    "else:\n",
    "    print(f'p-value = {np.round(p_value, 4)}' +\\\n",
    "      f' < alpha = {0.05} --> Наименее значимый фактор важен (отвергаем короткую)')"
   ]
  },
  {
   "cell_type": "code",
   "execution_count": null,
   "id": "cdce2351-1702-4d5e-b6eb-37245ba300d2",
   "metadata": {},
   "outputs": [],
   "source": []
  }
 ],
 "metadata": {
  "kernelspec": {
   "display_name": "Python 3 (ipykernel)",
   "language": "python",
   "name": "python3"
  },
  "language_info": {
   "codemirror_mode": {
    "name": "ipython",
    "version": 3
   },
   "file_extension": ".py",
   "mimetype": "text/x-python",
   "name": "python",
   "nbconvert_exporter": "python",
   "pygments_lexer": "ipython3",
   "version": "3.9.7"
  }
 },
 "nbformat": 4,
 "nbformat_minor": 5
}
